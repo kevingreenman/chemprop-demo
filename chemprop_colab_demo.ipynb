{
  "nbformat": 4,
  "nbformat_minor": 0,
  "metadata": {
    "colab": {
      "name": "chemprop_colab_demo.ipynb",
      "provenance": []
    },
    "kernelspec": {
      "name": "python3",
      "display_name": "Python 3"
    },
    "language_info": {
      "name": "python"
    }
  },
  "cells": [
    {
      "cell_type": "markdown",
      "metadata": {
        "id": "T2XDc8RVq6p6"
      },
      "source": [
        "Please note that this notebook is intended to be run in Google Colab rather than as a Jupyter notebook on your local machine. Please click the \"Open in Colab\" button."
      ]
    },
    {
      "cell_type": "markdown",
      "source": [
        "# Setup"
      ],
      "metadata": {
        "id": "6jZnD-vU9Fd-"
      }
    },
    {
      "cell_type": "code",
      "execution_count": 1,
      "metadata": {
        "colab": {
          "base_uri": "https://localhost:8080/",
          "height": 1000
        },
        "id": "WGZxehx_44Rj",
        "outputId": "e513a81a-c067-4994-8663-0ededbcf8f1f"
      },
      "outputs": [
        {
          "output_type": "stream",
          "name": "stdout",
          "text": [
            "  % Total    % Received % Xferd  Average Speed   Time    Time     Time  Current\n",
            "                                 Dload  Upload   Total   Spent    Left  Speed\n",
            "100  3721    0  3721    0     0  13680      0 --:--:-- --:--:-- --:--:-- 13680\n",
            "100 20.2M  100 20.2M    0     0  2339k      0  0:00:08  0:00:08 --:--:-- 2649k\n",
            "Cloning into 'chemprop'...\n",
            "remote: Enumerating objects: 15577, done.\u001b[K\n",
            "remote: Total 15577 (delta 0), reused 0 (delta 0), pack-reused 15577\u001b[K\n",
            "Receiving objects: 100% (15577/15577), 360.25 MiB | 26.11 MiB/s, done.\n",
            "Resolving deltas: 100% (7892/7892), done.\n",
            "Obtaining file:///content/chemprop\n",
            "Requirement already satisfied: flask>=1.1.2 in /usr/local/lib/python3.7/dist-packages (from chemprop==1.4.1) (1.1.4)\n",
            "Collecting hyperopt>=0.2.3\n",
            "  Downloading hyperopt-0.2.7-py2.py3-none-any.whl (1.6 MB)\n",
            "\u001b[K     |████████████████████████████████| 1.6 MB 5.3 MB/s \n",
            "\u001b[?25hRequirement already satisfied: matplotlib>=3.1.3 in /usr/local/lib/python3.7/dist-packages (from chemprop==1.4.1) (3.2.2)\n",
            "Requirement already satisfied: numpy>=1.18.1 in /usr/local/lib/python3.7/dist-packages (from chemprop==1.4.1) (1.21.5)\n",
            "Requirement already satisfied: pandas>=1.0.3 in /usr/local/lib/python3.7/dist-packages (from chemprop==1.4.1) (1.3.5)\n",
            "Collecting pandas-flavor>=0.2.0\n",
            "  Downloading pandas_flavor-0.2.0-py2.py3-none-any.whl (6.6 kB)\n",
            "Requirement already satisfied: scikit-learn>=0.22.2.post1 in /usr/local/lib/python3.7/dist-packages (from chemprop==1.4.1) (1.0.2)\n",
            "Requirement already satisfied: scipy>=1.4.1 in /usr/local/lib/python3.7/dist-packages (from chemprop==1.4.1) (1.4.1)\n",
            "Collecting sphinx>=3.1.2\n",
            "  Downloading Sphinx-4.5.0-py3-none-any.whl (3.1 MB)\n",
            "\u001b[K     |████████████████████████████████| 3.1 MB 41.4 MB/s \n",
            "\u001b[?25hCollecting tensorboardX>=2.0\n",
            "  Downloading tensorboardX-2.5-py2.py3-none-any.whl (125 kB)\n",
            "\u001b[K     |████████████████████████████████| 125 kB 69.9 MB/s \n",
            "\u001b[?25hRequirement already satisfied: torch>=1.5.1 in /usr/local/lib/python3.7/dist-packages (from chemprop==1.4.1) (1.10.0+cu111)\n",
            "Requirement already satisfied: tqdm>=4.45.0 in /usr/local/lib/python3.7/dist-packages (from chemprop==1.4.1) (4.63.0)\n",
            "Collecting typed-argument-parser>=1.6.1\n",
            "  Downloading typed-argument-parser-1.7.2.tar.gz (27 kB)\n",
            "Requirement already satisfied: Jinja2<3.0,>=2.10.1 in /usr/local/lib/python3.7/dist-packages (from flask>=1.1.2->chemprop==1.4.1) (2.11.3)\n",
            "Requirement already satisfied: Werkzeug<2.0,>=0.15 in /usr/local/lib/python3.7/dist-packages (from flask>=1.1.2->chemprop==1.4.1) (1.0.1)\n",
            "Requirement already satisfied: click<8.0,>=5.1 in /usr/local/lib/python3.7/dist-packages (from flask>=1.1.2->chemprop==1.4.1) (7.1.2)\n",
            "Requirement already satisfied: itsdangerous<2.0,>=0.24 in /usr/local/lib/python3.7/dist-packages (from flask>=1.1.2->chemprop==1.4.1) (1.1.0)\n",
            "Requirement already satisfied: cloudpickle in /usr/local/lib/python3.7/dist-packages (from hyperopt>=0.2.3->chemprop==1.4.1) (1.3.0)\n",
            "Requirement already satisfied: future in /usr/local/lib/python3.7/dist-packages (from hyperopt>=0.2.3->chemprop==1.4.1) (0.16.0)\n",
            "Collecting py4j\n",
            "  Downloading py4j-0.10.9.5-py2.py3-none-any.whl (199 kB)\n",
            "\u001b[K     |████████████████████████████████| 199 kB 56.8 MB/s \n",
            "\u001b[?25hRequirement already satisfied: six in /usr/local/lib/python3.7/dist-packages (from hyperopt>=0.2.3->chemprop==1.4.1) (1.15.0)\n",
            "Requirement already satisfied: networkx>=2.2 in /usr/local/lib/python3.7/dist-packages (from hyperopt>=0.2.3->chemprop==1.4.1) (2.6.3)\n",
            "Requirement already satisfied: MarkupSafe>=0.23 in /usr/local/lib/python3.7/dist-packages (from Jinja2<3.0,>=2.10.1->flask>=1.1.2->chemprop==1.4.1) (2.0.1)\n",
            "Requirement already satisfied: python-dateutil>=2.1 in /usr/local/lib/python3.7/dist-packages (from matplotlib>=3.1.3->chemprop==1.4.1) (2.8.2)\n",
            "Requirement already satisfied: kiwisolver>=1.0.1 in /usr/local/lib/python3.7/dist-packages (from matplotlib>=3.1.3->chemprop==1.4.1) (1.4.0)\n",
            "Requirement already satisfied: cycler>=0.10 in /usr/local/lib/python3.7/dist-packages (from matplotlib>=3.1.3->chemprop==1.4.1) (0.11.0)\n",
            "Requirement already satisfied: pyparsing!=2.0.4,!=2.1.2,!=2.1.6,>=2.0.1 in /usr/local/lib/python3.7/dist-packages (from matplotlib>=3.1.3->chemprop==1.4.1) (3.0.7)\n",
            "Requirement already satisfied: typing-extensions in /usr/local/lib/python3.7/dist-packages (from kiwisolver>=1.0.1->matplotlib>=3.1.3->chemprop==1.4.1) (3.10.0.2)\n",
            "Requirement already satisfied: pytz>=2017.3 in /usr/local/lib/python3.7/dist-packages (from pandas>=1.0.3->chemprop==1.4.1) (2018.9)\n",
            "Requirement already satisfied: xarray in /usr/local/lib/python3.7/dist-packages (from pandas-flavor>=0.2.0->chemprop==1.4.1) (0.18.2)\n",
            "Requirement already satisfied: threadpoolctl>=2.0.0 in /usr/local/lib/python3.7/dist-packages (from scikit-learn>=0.22.2.post1->chemprop==1.4.1) (3.1.0)\n",
            "Requirement already satisfied: joblib>=0.11 in /usr/local/lib/python3.7/dist-packages (from scikit-learn>=0.22.2.post1->chemprop==1.4.1) (1.1.0)\n",
            "Requirement already satisfied: babel>=1.3 in /usr/local/lib/python3.7/dist-packages (from sphinx>=3.1.2->chemprop==1.4.1) (2.9.1)\n",
            "Requirement already satisfied: imagesize in /usr/local/lib/python3.7/dist-packages (from sphinx>=3.1.2->chemprop==1.4.1) (1.3.0)\n",
            "Requirement already satisfied: docutils<0.18,>=0.14 in /usr/local/lib/python3.7/dist-packages (from sphinx>=3.1.2->chemprop==1.4.1) (0.17.1)\n",
            "Requirement already satisfied: sphinxcontrib-serializinghtml>=1.1.5 in /usr/local/lib/python3.7/dist-packages (from sphinx>=3.1.2->chemprop==1.4.1) (1.1.5)\n",
            "Requirement already satisfied: requests>=2.5.0 in /usr/local/lib/python3.7/dist-packages (from sphinx>=3.1.2->chemprop==1.4.1) (2.23.0)\n",
            "Collecting sphinxcontrib-qthelp\n",
            "  Downloading sphinxcontrib_qthelp-1.0.3-py2.py3-none-any.whl (90 kB)\n",
            "\u001b[K     |████████████████████████████████| 90 kB 8.2 MB/s \n",
            "\u001b[?25hRequirement already satisfied: importlib-metadata>=4.4 in /usr/local/lib/python3.7/dist-packages (from sphinx>=3.1.2->chemprop==1.4.1) (4.11.3)\n",
            "Requirement already satisfied: alabaster<0.8,>=0.7 in /usr/local/lib/python3.7/dist-packages (from sphinx>=3.1.2->chemprop==1.4.1) (0.7.12)\n",
            "Collecting sphinxcontrib-htmlhelp>=2.0.0\n",
            "  Downloading sphinxcontrib_htmlhelp-2.0.0-py2.py3-none-any.whl (100 kB)\n",
            "\u001b[K     |████████████████████████████████| 100 kB 9.1 MB/s \n",
            "\u001b[?25hCollecting sphinxcontrib-jsmath\n",
            "  Downloading sphinxcontrib_jsmath-1.0.1-py2.py3-none-any.whl (5.1 kB)\n",
            "Requirement already satisfied: packaging in /usr/local/lib/python3.7/dist-packages (from sphinx>=3.1.2->chemprop==1.4.1) (21.3)\n",
            "Requirement already satisfied: Pygments>=2.0 in /usr/local/lib/python3.7/dist-packages (from sphinx>=3.1.2->chemprop==1.4.1) (2.6.1)\n",
            "Collecting sphinxcontrib-applehelp\n",
            "  Downloading sphinxcontrib_applehelp-1.0.2-py2.py3-none-any.whl (121 kB)\n",
            "\u001b[K     |████████████████████████████████| 121 kB 48.0 MB/s \n",
            "\u001b[?25hRequirement already satisfied: snowballstemmer>=1.1 in /usr/local/lib/python3.7/dist-packages (from sphinx>=3.1.2->chemprop==1.4.1) (2.2.0)\n",
            "Collecting sphinxcontrib-devhelp\n",
            "  Downloading sphinxcontrib_devhelp-1.0.2-py2.py3-none-any.whl (84 kB)\n",
            "\u001b[K     |████████████████████████████████| 84 kB 3.0 MB/s \n",
            "\u001b[?25hRequirement already satisfied: zipp>=0.5 in /usr/local/lib/python3.7/dist-packages (from importlib-metadata>=4.4->sphinx>=3.1.2->chemprop==1.4.1) (3.7.0)\n",
            "Requirement already satisfied: idna<3,>=2.5 in /usr/local/lib/python3.7/dist-packages (from requests>=2.5.0->sphinx>=3.1.2->chemprop==1.4.1) (2.10)\n",
            "Requirement already satisfied: urllib3!=1.25.0,!=1.25.1,<1.26,>=1.21.1 in /usr/local/lib/python3.7/dist-packages (from requests>=2.5.0->sphinx>=3.1.2->chemprop==1.4.1) (1.24.3)\n",
            "Requirement already satisfied: chardet<4,>=3.0.2 in /usr/local/lib/python3.7/dist-packages (from requests>=2.5.0->sphinx>=3.1.2->chemprop==1.4.1) (3.0.4)\n",
            "Requirement already satisfied: certifi>=2017.4.17 in /usr/local/lib/python3.7/dist-packages (from requests>=2.5.0->sphinx>=3.1.2->chemprop==1.4.1) (2021.10.8)\n",
            "Requirement already satisfied: protobuf>=3.8.0 in /usr/local/lib/python3.7/dist-packages (from tensorboardX>=2.0->chemprop==1.4.1) (3.17.3)\n",
            "Collecting typing-inspect>=0.7.1\n",
            "  Downloading typing_inspect-0.7.1-py3-none-any.whl (8.4 kB)\n",
            "Collecting mypy-extensions>=0.3.0\n",
            "  Downloading mypy_extensions-0.4.3-py2.py3-none-any.whl (4.5 kB)\n",
            "Requirement already satisfied: setuptools>=40.4 in /usr/local/lib/python3.7/dist-packages (from xarray->pandas-flavor>=0.2.0->chemprop==1.4.1) (57.4.0)\n",
            "Building wheels for collected packages: typed-argument-parser\n",
            "  Building wheel for typed-argument-parser (setup.py) ... \u001b[?25l\u001b[?25hdone\n",
            "  Created wheel for typed-argument-parser: filename=typed_argument_parser-1.7.2-py3-none-any.whl size=22701 sha256=3bac43fcf5e3c28d51006199eb3daef713377e198b0f9fbfbd8e699ab1104dd0\n",
            "  Stored in directory: /root/.cache/pip/wheels/ab/9e/09/716b41e56484cac4752e0a6f5a2526ea439c4474bcf5032a7c\n",
            "Successfully built typed-argument-parser\n",
            "Installing collected packages: mypy-extensions, typing-inspect, sphinxcontrib-qthelp, sphinxcontrib-jsmath, sphinxcontrib-htmlhelp, sphinxcontrib-devhelp, sphinxcontrib-applehelp, py4j, typed-argument-parser, tensorboardX, sphinx, pandas-flavor, hyperopt, chemprop\n",
            "  Attempting uninstall: sphinx\n",
            "    Found existing installation: Sphinx 1.8.6\n",
            "    Uninstalling Sphinx-1.8.6:\n",
            "      Successfully uninstalled Sphinx-1.8.6\n",
            "  Attempting uninstall: hyperopt\n",
            "    Found existing installation: hyperopt 0.1.2\n",
            "    Uninstalling hyperopt-0.1.2:\n",
            "      Successfully uninstalled hyperopt-0.1.2\n",
            "  Running setup.py develop for chemprop\n",
            "\u001b[31mERROR: pip's dependency resolver does not currently take into account all the packages that are installed. This behaviour is the source of the following dependency conflicts.\n",
            "datascience 0.10.6 requires folium==0.2.1, but you have folium 0.8.3 which is incompatible.\u001b[0m\n",
            "Successfully installed chemprop-1.4.1 hyperopt-0.2.7 mypy-extensions-0.4.3 pandas-flavor-0.2.0 py4j-0.10.9.5 sphinx-4.5.0 sphinxcontrib-applehelp-1.0.2 sphinxcontrib-devhelp-1.0.2 sphinxcontrib-htmlhelp-2.0.0 sphinxcontrib-jsmath-1.0.1 sphinxcontrib-qthelp-1.0.3 tensorboardX-2.5 typed-argument-parser-1.7.2 typing-inspect-0.7.1\n"
          ]
        },
        {
          "output_type": "display_data",
          "data": {
            "application/vnd.colab-display-data+json": {
              "pip_warning": {
                "packages": [
                  "sphinxcontrib"
                ]
              }
            }
          },
          "metadata": {}
        },
        {
          "output_type": "stream",
          "name": "stderr",
          "text": [
            "Traceback (most recent call last):\n",
            "  File \"/usr/local/lib/python3.7/dist-packages/rdkit/Chem/PandasTools.py\", line 131, in <module>\n",
            "    if 'display.width' in pd.core.config._registered_options:\n",
            "AttributeError: module 'pandas.core' has no attribute 'config'\n"
          ]
        }
      ],
      "source": [
        "import os\n",
        "import sys\n",
        "\n",
        "# !wget -c https://repo.anaconda.com/miniconda/Miniconda3-py37_4.8.3-Linux-x86_64.sh\n",
        "# !chmod +x Miniconda3-py37_4.8.3-Linux-x86_64.sh\n",
        "# !bash ./Miniconda3-py37_4.8.3-Linux-x86_64.sh -b -f -p /usr/local\n",
        "# !conda install -q -y -c conda-forge rdkit==2020.09.2\n",
        "\n",
        "url = 'https://anaconda.org/rdkit/rdkit/2018.09.1.0/download/linux-64/rdkit-2018.09.1.0-py36h71b666b_1.tar.bz2'\n",
        "!curl -L $url | tar xj lib\n",
        "!mv lib/python3.6/site-packages/rdkit /usr/local/lib/python3.7/dist-packages/\n",
        "x86 = '/usr/lib/x86_64-linux-gnu'\n",
        "!mv lib/*.so.* $x86/\n",
        "!ln -s $x86/libboost_python3-py36.so.1.65.1 $x86/libboost_python3.so.1.65.1\n",
        "\n",
        "!git clone https://github.com/chemprop/chemprop\n",
        "os.chdir('chemprop')\n",
        "!pip install -e .\n",
        "\n",
        "sys.path.append('/usr/local/lib/python3.7/site-packages/')\n",
        "\n",
        "import chemprop\n",
        "import pandas as pd"
      ]
    },
    {
      "cell_type": "markdown",
      "source": [
        "# Train model"
      ],
      "metadata": {
        "id": "MQ67V6hr_6Yz"
      }
    },
    {
      "cell_type": "code",
      "source": [
        "arguments = [\n",
        "    '--data_path', 'tests/data/regression.csv',\n",
        "    '--dataset_type', 'regression',\n",
        "    '--save_dir', 'test_checkpoints',\n",
        "    '--epochs', '10'\n",
        "]\n",
        "\n",
        "args = chemprop.args.TrainArgs().parse_args(arguments)\n",
        "mean_score, std_score = chemprop.train.cross_validate(args=args, train_func=chemprop.train.run_training)"
      ],
      "metadata": {
        "colab": {
          "base_uri": "https://localhost:8080/"
        },
        "id": "pqtogu2T7OTd",
        "outputId": "3c450746-28ba-4593-f273-93e9207e9662"
      },
      "execution_count": 2,
      "outputs": [
        {
          "output_type": "stream",
          "name": "stderr",
          "text": [
            "Command line\n",
            "python /usr/local/lib/python3.7/dist-packages/ipykernel_launcher.py -f /root/.local/share/jupyter/runtime/kernel-36ce3a9c-c294-4f10-a9c8-88931f83cd9d.json\n",
            "Args\n",
            "{'activation': 'ReLU',\n",
            " 'adding_h': False,\n",
            " 'aggregation': 'mean',\n",
            " 'aggregation_norm': 100,\n",
            " 'atom_descriptor_scaling': True,\n",
            " 'atom_descriptors': None,\n",
            " 'atom_descriptors_path': None,\n",
            " 'atom_descriptors_size': 0,\n",
            " 'atom_features_size': 0,\n",
            " 'atom_messages': False,\n",
            " 'batch_size': 50,\n",
            " 'bias': False,\n",
            " 'bias_solvent': False,\n",
            " 'bond_feature_scaling': True,\n",
            " 'bond_features_path': None,\n",
            " 'bond_features_size': 0,\n",
            " 'cache_cutoff': 10000,\n",
            " 'checkpoint_dir': None,\n",
            " 'checkpoint_frzn': None,\n",
            " 'checkpoint_path': None,\n",
            " 'checkpoint_paths': None,\n",
            " 'class_balance': False,\n",
            " 'config_path': None,\n",
            " 'crossval_index_dir': None,\n",
            " 'crossval_index_file': None,\n",
            " 'crossval_index_sets': None,\n",
            " 'cuda': False,\n",
            " 'data_path': 'tests/data/regression.csv',\n",
            " 'data_weights_path': None,\n",
            " 'dataset_type': 'regression',\n",
            " 'depth': 3,\n",
            " 'depth_solvent': 3,\n",
            " 'device': device(type='cpu'),\n",
            " 'dropout': 0.0,\n",
            " 'empty_cache': False,\n",
            " 'ensemble_size': 1,\n",
            " 'epochs': 10,\n",
            " 'explicit_h': False,\n",
            " 'extra_metrics': [],\n",
            " 'features_generator': None,\n",
            " 'features_only': False,\n",
            " 'features_path': None,\n",
            " 'features_scaling': True,\n",
            " 'features_size': None,\n",
            " 'ffn_hidden_size': 300,\n",
            " 'ffn_num_layers': 2,\n",
            " 'final_lr': 0.0001,\n",
            " 'folds_file': None,\n",
            " 'freeze_first_only': False,\n",
            " 'frzn_ffn_layers': 0,\n",
            " 'gpu': None,\n",
            " 'grad_clip': None,\n",
            " 'hidden_size': 300,\n",
            " 'hidden_size_solvent': 300,\n",
            " 'ignore_columns': None,\n",
            " 'init_lr': 0.0001,\n",
            " 'log_frequency': 10,\n",
            " 'loss_function': 'mse',\n",
            " 'max_data_size': None,\n",
            " 'max_lr': 0.001,\n",
            " 'metric': 'rmse',\n",
            " 'metrics': ['rmse'],\n",
            " 'minimize_score': True,\n",
            " 'mpn_shared': False,\n",
            " 'multiclass_num_classes': 3,\n",
            " 'no_atom_descriptor_scaling': False,\n",
            " 'no_bond_features_scaling': False,\n",
            " 'no_cache_mol': False,\n",
            " 'no_cuda': False,\n",
            " 'no_features_scaling': False,\n",
            " 'num_folds': 1,\n",
            " 'num_lrs': 1,\n",
            " 'num_tasks': 1,\n",
            " 'num_workers': 8,\n",
            " 'number_of_molecules': 1,\n",
            " 'overwrite_default_atom_features': False,\n",
            " 'overwrite_default_bond_features': False,\n",
            " 'phase_features_path': None,\n",
            " 'pytorch_seed': 0,\n",
            " 'quiet': False,\n",
            " 'reaction': False,\n",
            " 'reaction_mode': 'reac_diff',\n",
            " 'reaction_solvent': False,\n",
            " 'resume_experiment': False,\n",
            " 'save_dir': 'test_checkpoints',\n",
            " 'save_preds': False,\n",
            " 'save_smiles_splits': False,\n",
            " 'seed': 0,\n",
            " 'separate_test_atom_descriptors_path': None,\n",
            " 'separate_test_bond_features_path': None,\n",
            " 'separate_test_features_path': None,\n",
            " 'separate_test_path': None,\n",
            " 'separate_test_phase_features_path': None,\n",
            " 'separate_val_atom_descriptors_path': None,\n",
            " 'separate_val_bond_features_path': None,\n",
            " 'separate_val_features_path': None,\n",
            " 'separate_val_path': None,\n",
            " 'separate_val_phase_features_path': None,\n",
            " 'show_individual_scores': False,\n",
            " 'smiles_columns': ['smiles'],\n",
            " 'spectra_activation': 'exp',\n",
            " 'spectra_phase_mask_path': None,\n",
            " 'spectra_target_floor': 1e-08,\n",
            " 'split_key_molecule': 0,\n",
            " 'split_sizes': (0.8, 0.1, 0.1),\n",
            " 'split_type': 'random',\n",
            " 'target_columns': None,\n",
            " 'target_weights': None,\n",
            " 'task_names': ['logSolubility'],\n",
            " 'test': False,\n",
            " 'test_fold_index': None,\n",
            " 'train_data_size': None,\n",
            " 'undirected': False,\n",
            " 'use_input_features': False,\n",
            " 'val_fold_index': None,\n",
            " 'warmup_epochs': 2.0}\n",
            "Setting molecule featurization parameters to default.\n",
            "Loading data\n",
            "500it [00:00, 112315.34it/s]\n",
            "100%|██████████| 500/500 [00:00<00:00, 29642.14it/s]\n",
            "100%|██████████| 500/500 [00:00<00:00, 4017.68it/s]\n",
            "Number of tasks = 1\n",
            "Fold 0\n",
            "Splitting data with seed 0\n",
            "Total size = 500 | train size = 400 | val size = 50 | test size = 50\n",
            "Fitting scaler\n",
            "Building model 0\n",
            "MoleculeModel(\n",
            "  (encoder): MPN(\n",
            "    (encoder): ModuleList(\n",
            "      (0): MPNEncoder(\n",
            "        (dropout_layer): Dropout(p=0.0, inplace=False)\n",
            "        (act_func): ReLU()\n",
            "        (W_i): Linear(in_features=147, out_features=300, bias=False)\n",
            "        (W_h): Linear(in_features=300, out_features=300, bias=False)\n",
            "        (W_o): Linear(in_features=433, out_features=300, bias=True)\n",
            "      )\n",
            "    )\n",
            "  )\n",
            "  (ffn): Sequential(\n",
            "    (0): Dropout(p=0.0, inplace=False)\n",
            "    (1): Linear(in_features=300, out_features=300, bias=True)\n",
            "    (2): ReLU()\n",
            "    (3): Dropout(p=0.0, inplace=False)\n",
            "    (4): Linear(in_features=300, out_features=1, bias=True)\n",
            "  )\n",
            ")\n",
            "Number of parameters = 355,201\n",
            "  0%|          | 0/10 [00:00<?, ?it/s]Epoch 0\n",
            "\n",
            "  0%|          | 0/8 [00:00<?, ?it/s]\u001b[A\n",
            " 12%|█▎        | 1/8 [00:00<00:06,  1.09it/s]\u001b[A\n",
            " 25%|██▌       | 2/8 [00:01<00:03,  1.51it/s]\u001b[A\n",
            " 38%|███▊      | 3/8 [00:01<00:02,  2.00it/s]\u001b[A\n",
            " 50%|█████     | 4/8 [00:02<00:01,  2.16it/s]\u001b[A\n",
            " 62%|██████▎   | 5/8 [00:02<00:01,  2.20it/s]\u001b[A\n",
            " 75%|███████▌  | 6/8 [00:02<00:00,  2.36it/s]\u001b[A\n",
            " 88%|████████▊ | 7/8 [00:03<00:00,  2.62it/s]\u001b[A\n",
            "100%|██████████| 8/8 [00:03<00:00,  2.29it/s]\u001b[A\n",
            "                                             \u001b[A\n",
            "  0%|          | 0/1 [00:00<?, ?it/s]\u001b[A\n",
            "100%|██████████| 1/1 [00:00<00:00,  2.59it/s]\u001b[A\n",
            "                                             \u001b[AValidation rmse = 1.706185\n",
            " 10%|█         | 1/10 [00:04<00:39,  4.38s/it]Epoch 1\n",
            "\n",
            "  0%|          | 0/8 [00:00<?, ?it/s]\u001b[A\n",
            " 12%|█▎        | 1/8 [00:00<00:01,  6.80it/s]\u001b[ALoss = 6.5336e-01, PNorm = 34.0268, GNorm = 6.2552, lr_0 = 7.1875e-04\n",
            "\n",
            " 25%|██▌       | 2/8 [00:00<00:01,  5.79it/s]\u001b[A\n",
            " 38%|███▊      | 3/8 [00:00<00:00,  5.32it/s]\u001b[A\n",
            " 50%|█████     | 4/8 [00:00<00:00,  5.99it/s]\u001b[A\n",
            " 62%|██████▎   | 5/8 [00:00<00:00,  6.91it/s]\u001b[A\n",
            " 75%|███████▌  | 6/8 [00:00<00:00,  7.61it/s]\u001b[A\n",
            " 88%|████████▊ | 7/8 [00:01<00:00,  8.04it/s]\u001b[A\n",
            "100%|██████████| 8/8 [00:01<00:00,  7.81it/s]\u001b[A\n",
            "                                             \u001b[A\n",
            "  0%|          | 0/1 [00:00<?, ?it/s]\u001b[A\n",
            "                                     \u001b[AValidation rmse = 1.387877\n",
            " 20%|██        | 2/10 [00:05<00:20,  2.58s/it]Epoch 2\n",
            "\n",
            "  0%|          | 0/8 [00:00<?, ?it/s]\u001b[A\n",
            " 12%|█▎        | 1/8 [00:00<00:00,  8.52it/s]\u001b[A\n",
            " 25%|██▌       | 2/8 [00:00<00:00,  7.93it/s]\u001b[A\n",
            " 38%|███▊      | 3/8 [00:00<00:00,  8.33it/s]\u001b[ALoss = 4.4410e-01, PNorm = 34.0827, GNorm = 7.6774, lr_0 = 8.3536e-04\n",
            "\n",
            " 50%|█████     | 4/8 [00:00<00:00,  8.90it/s]\u001b[A\n",
            " 62%|██████▎   | 5/8 [00:00<00:00,  8.61it/s]\u001b[A\n",
            " 75%|███████▌  | 6/8 [00:00<00:00,  8.90it/s]\u001b[A\n",
            " 88%|████████▊ | 7/8 [00:00<00:00,  9.09it/s]\u001b[A\n",
            "100%|██████████| 8/8 [00:00<00:00,  9.04it/s]\u001b[A\n",
            "                                             \u001b[A\n",
            "  0%|          | 0/1 [00:00<?, ?it/s]\u001b[A\n",
            "                                     \u001b[AValidation rmse = 1.295848\n",
            " 30%|███       | 3/10 [00:06<00:13,  1.90s/it]Epoch 3\n",
            "\n",
            "  0%|          | 0/8 [00:00<?, ?it/s]\u001b[A\n",
            " 12%|█▎        | 1/8 [00:00<00:00,  9.35it/s]\u001b[A\n",
            " 25%|██▌       | 2/8 [00:00<00:00,  8.22it/s]\u001b[A\n",
            " 38%|███▊      | 3/8 [00:00<00:00,  8.73it/s]\u001b[A\n",
            " 50%|█████     | 4/8 [00:00<00:00,  8.72it/s]\u001b[A\n",
            " 62%|██████▎   | 5/8 [00:00<00:00,  8.65it/s]\u001b[ALoss = 3.9490e-01, PNorm = 34.1229, GNorm = 2.8284, lr_0 = 5.8294e-04\n",
            "\n",
            " 75%|███████▌  | 6/8 [00:00<00:00,  8.49it/s]\u001b[A\n",
            " 88%|████████▊ | 7/8 [00:00<00:00,  8.35it/s]\u001b[A\n",
            "100%|██████████| 8/8 [00:00<00:00,  8.77it/s]\u001b[A\n",
            "                                             \u001b[A\n",
            "  0%|          | 0/1 [00:00<?, ?it/s]\u001b[A\n",
            "                                     \u001b[AValidation rmse = 1.390492\n",
            " 40%|████      | 4/10 [00:07<00:09,  1.56s/it]Epoch 4\n",
            "\n",
            "  0%|          | 0/8 [00:00<?, ?it/s]\u001b[A\n",
            " 12%|█▎        | 1/8 [00:00<00:00,  9.94it/s]\u001b[A\n",
            " 25%|██▌       | 2/8 [00:00<00:00,  8.68it/s]\u001b[A\n",
            " 38%|███▊      | 3/8 [00:00<00:00,  8.48it/s]\u001b[A\n",
            " 50%|█████     | 4/8 [00:00<00:00,  8.43it/s]\u001b[A\n",
            " 62%|██████▎   | 5/8 [00:00<00:00,  8.73it/s]\u001b[A\n",
            " 75%|███████▌  | 6/8 [00:00<00:00,  8.29it/s]\u001b[A\n",
            " 88%|████████▊ | 7/8 [00:00<00:00,  8.37it/s]\u001b[ALoss = 3.2708e-01, PNorm = 34.1453, GNorm = 4.5104, lr_0 = 4.0679e-04\n",
            "\n",
            "100%|██████████| 8/8 [00:00<00:00,  8.60it/s]\u001b[A\n",
            "                                             \u001b[A\n",
            "  0%|          | 0/1 [00:00<?, ?it/s]\u001b[A\n",
            "                                     \u001b[AValidation rmse = 1.312334\n",
            " 50%|█████     | 5/10 [00:08<00:06,  1.37s/it]Epoch 5\n",
            "\n",
            "  0%|          | 0/8 [00:00<?, ?it/s]\u001b[A\n",
            " 12%|█▎        | 1/8 [00:00<00:00,  9.07it/s]\u001b[A\n",
            " 25%|██▌       | 2/8 [00:00<00:00,  8.40it/s]\u001b[A\n",
            " 38%|███▊      | 3/8 [00:00<00:00,  8.85it/s]\u001b[A\n",
            " 50%|█████     | 4/8 [00:00<00:00,  8.33it/s]\u001b[A\n",
            " 62%|██████▎   | 5/8 [00:00<00:00,  8.55it/s]\u001b[A\n",
            " 75%|███████▌  | 6/8 [00:00<00:00,  8.48it/s]\u001b[A\n",
            " 88%|████████▊ | 7/8 [00:00<00:00,  8.37it/s]\u001b[A\n",
            "100%|██████████| 8/8 [00:00<00:00,  8.50it/s]\u001b[A\n",
            "                                             \u001b[A\n",
            "  0%|          | 0/1 [00:00<?, ?it/s]\u001b[A\n",
            "                                     \u001b[AValidation rmse = 1.121431\n",
            " 60%|██████    | 6/10 [00:09<00:05,  1.29s/it]Epoch 6\n",
            "\n",
            "  0%|          | 0/8 [00:00<?, ?it/s]\u001b[A\n",
            " 12%|█▎        | 1/8 [00:00<00:00,  8.74it/s]\u001b[ALoss = 2.1001e-01, PNorm = 34.1592, GNorm = 4.6300, lr_0 = 2.8387e-04\n",
            "\n",
            " 25%|██▌       | 2/8 [00:00<00:00,  7.64it/s]\u001b[A\n",
            " 38%|███▊      | 3/8 [00:00<00:00,  7.89it/s]\u001b[A\n",
            " 50%|█████     | 4/8 [00:00<00:00,  7.98it/s]\u001b[A\n",
            " 62%|██████▎   | 5/8 [00:00<00:00,  8.09it/s]\u001b[A\n",
            " 75%|███████▌  | 6/8 [00:00<00:00,  8.21it/s]\u001b[A\n",
            " 88%|████████▊ | 7/8 [00:00<00:00,  8.37it/s]\u001b[A\n",
            "100%|██████████| 8/8 [00:00<00:00,  8.44it/s]\u001b[A\n",
            "                                             \u001b[A\n",
            "  0%|          | 0/1 [00:00<?, ?it/s]\u001b[A\n",
            "                                     \u001b[AValidation rmse = 1.223879\n",
            " 70%|███████   | 7/10 [00:11<00:03,  1.22s/it]Epoch 7\n",
            "\n",
            "  0%|          | 0/8 [00:00<?, ?it/s]\u001b[A\n",
            " 12%|█▎        | 1/8 [00:00<00:00,  8.87it/s]\u001b[A\n",
            " 25%|██▌       | 2/8 [00:00<00:00,  8.87it/s]\u001b[A\n",
            " 38%|███▊      | 3/8 [00:00<00:00,  8.68it/s]\u001b[ALoss = 2.4111e-01, PNorm = 34.1688, GNorm = 1.2187, lr_0 = 1.9810e-04\n",
            "\n",
            " 50%|█████     | 4/8 [00:00<00:00,  8.70it/s]\u001b[A\n",
            " 62%|██████▎   | 5/8 [00:00<00:00,  8.38it/s]\u001b[A\n",
            " 75%|███████▌  | 6/8 [00:00<00:00,  8.60it/s]\u001b[A\n",
            " 88%|████████▊ | 7/8 [00:00<00:00,  8.67it/s]\u001b[A\n",
            "100%|██████████| 8/8 [00:00<00:00,  8.37it/s]\u001b[A\n",
            "                                             \u001b[A\n",
            "  0%|          | 0/1 [00:00<?, ?it/s]\u001b[A\n",
            "                                     \u001b[AValidation rmse = 1.082241\n",
            " 80%|████████  | 8/10 [00:12<00:02,  1.19s/it]Epoch 8\n",
            "\n",
            "  0%|          | 0/8 [00:00<?, ?it/s]\u001b[A\n",
            " 12%|█▎        | 1/8 [00:00<00:00,  8.06it/s]\u001b[A\n",
            " 25%|██▌       | 2/8 [00:00<00:00,  8.19it/s]\u001b[A\n",
            " 38%|███▊      | 3/8 [00:00<00:00,  8.55it/s]\u001b[A\n",
            " 50%|█████     | 4/8 [00:00<00:00,  8.68it/s]\u001b[A\n",
            " 62%|██████▎   | 5/8 [00:00<00:00,  8.89it/s]\u001b[ALoss = 2.2294e-01, PNorm = 34.1764, GNorm = 2.9398, lr_0 = 1.3824e-04\n",
            "\n",
            " 75%|███████▌  | 6/8 [00:00<00:00,  8.58it/s]\u001b[A\n",
            " 88%|████████▊ | 7/8 [00:00<00:00,  8.84it/s]\u001b[A\n",
            "100%|██████████| 8/8 [00:00<00:00,  8.73it/s]\u001b[A\n",
            "                                             \u001b[A\n",
            "  0%|          | 0/1 [00:00<?, ?it/s]\u001b[A\n",
            "                                     \u001b[AValidation rmse = 1.074001\n",
            " 90%|█████████ | 9/10 [00:13<00:01,  1.16s/it]Epoch 9\n",
            "\n",
            "  0%|          | 0/8 [00:00<?, ?it/s]\u001b[A\n",
            " 12%|█▎        | 1/8 [00:00<00:00,  8.78it/s]\u001b[A\n",
            " 25%|██▌       | 2/8 [00:00<00:00,  9.29it/s]\u001b[A\n",
            " 38%|███▊      | 3/8 [00:00<00:00,  8.70it/s]\u001b[A\n",
            " 50%|█████     | 4/8 [00:00<00:00,  8.29it/s]\u001b[A\n",
            " 62%|██████▎   | 5/8 [00:00<00:00,  8.10it/s]\u001b[A\n",
            " 75%|███████▌  | 6/8 [00:00<00:00,  8.32it/s]\u001b[A\n",
            " 88%|████████▊ | 7/8 [00:00<00:00,  8.55it/s]\u001b[ALoss = 2.1468e-01, PNorm = 34.1819, GNorm = 1.1417, lr_0 = 1.0000e-04\n",
            "\n",
            "100%|██████████| 8/8 [00:00<00:00,  8.22it/s]\u001b[A\n",
            "                                             \u001b[A\n",
            "  0%|          | 0/1 [00:00<?, ?it/s]\u001b[A\n",
            "                                     \u001b[AValidation rmse = 1.064917\n",
            "100%|██████████| 10/10 [00:14<00:00,  1.44s/it]\n",
            "Model 0 best validation rmse = 1.064917 on epoch 9\n",
            "Loading pretrained parameter \"encoder.encoder.0.cached_zero_vector\".\n",
            "Loading pretrained parameter \"encoder.encoder.0.W_i.weight\".\n",
            "Loading pretrained parameter \"encoder.encoder.0.W_h.weight\".\n",
            "Loading pretrained parameter \"encoder.encoder.0.W_o.weight\".\n",
            "Loading pretrained parameter \"encoder.encoder.0.W_o.bias\".\n",
            "Loading pretrained parameter \"ffn.1.weight\".\n",
            "Loading pretrained parameter \"ffn.1.bias\".\n",
            "Loading pretrained parameter \"ffn.4.weight\".\n",
            "Loading pretrained parameter \"ffn.4.bias\".\n",
            "Model 0 test rmse = 1.371554\n",
            "Ensemble test rmse = 1.371554\n",
            "1-fold cross validation\n",
            "\tSeed 0 ==> test rmse = 1.371554\n",
            "Overall test rmse = 1.371554 +/- 0.000000\n",
            "Elapsed time = 0:00:16\n"
          ]
        }
      ]
    },
    {
      "cell_type": "markdown",
      "source": [
        "# Predict from file"
      ],
      "metadata": {
        "id": "WZktZ7DsAAMn"
      }
    },
    {
      "cell_type": "code",
      "source": [
        "arguments = [\n",
        "    '--test_path', 'tests/data/regression.csv',\n",
        "    '--preds_path', 'test_preds.csv',\n",
        "    '--checkpoint_dir', 'test_checkpoints'\n",
        "]\n",
        "\n",
        "args = chemprop.args.PredictArgs().parse_args(arguments)\n",
        "preds = chemprop.train.make_predictions(args=args)"
      ],
      "metadata": {
        "colab": {
          "base_uri": "https://localhost:8080/"
        },
        "id": "5a1-7UXcJCss",
        "outputId": "7e2d8471-cad4-4eca-af1e-ca56fcdf3e76"
      },
      "execution_count": null,
      "outputs": [
        {
          "output_type": "stream",
          "name": "stdout",
          "text": [
            "Loading training args\n",
            "Setting molecule featurization parameters to default.\n",
            "Loading data\n"
          ]
        },
        {
          "output_type": "stream",
          "name": "stderr",
          "text": [
            "500it [00:00, 112075.25it/s]\n",
            "100%|██████████| 500/500 [00:00<00:00, 74520.36it/s]\n",
            "/usr/local/lib/python3.7/dist-packages/torch/utils/data/dataloader.py:481: UserWarning: This DataLoader will create 8 worker processes in total. Our suggested max number of worker in current system is 2, which is smaller than what this DataLoader is going to create. Please be aware that excessive worker creation might get DataLoader running slow or even freeze, lower the worker number to avoid potential slowness/freeze if necessary.\n",
            "  cpuset_checked))\n"
          ]
        },
        {
          "output_type": "stream",
          "name": "stdout",
          "text": [
            "Validating SMILES\n",
            "Test size = 500\n",
            "Predicting with an ensemble of 1 models\n"
          ]
        },
        {
          "output_type": "stream",
          "name": "stderr",
          "text": [
            "\r  0%|          | 0/1 [00:00<?, ?it/s]"
          ]
        },
        {
          "output_type": "stream",
          "name": "stdout",
          "text": [
            "Loading pretrained parameter \"encoder.encoder.0.cached_zero_vector\".\n",
            "Loading pretrained parameter \"encoder.encoder.0.W_i.weight\".\n",
            "Loading pretrained parameter \"encoder.encoder.0.W_h.weight\".\n",
            "Loading pretrained parameter \"encoder.encoder.0.W_o.weight\".\n",
            "Loading pretrained parameter \"encoder.encoder.0.W_o.bias\".\n",
            "Loading pretrained parameter \"ffn.1.weight\".\n",
            "Loading pretrained parameter \"ffn.1.bias\".\n",
            "Loading pretrained parameter \"ffn.4.weight\".\n",
            "Loading pretrained parameter \"ffn.4.bias\".\n"
          ]
        },
        {
          "output_type": "stream",
          "name": "stderr",
          "text": [
            "\n",
            "  0%|          | 0/10 [00:00<?, ?it/s]\u001b[A\n",
            " 10%|█         | 1/10 [00:00<00:03,  2.25it/s]\u001b[A\n",
            " 30%|███       | 3/10 [00:00<00:01,  6.55it/s]\u001b[A\n",
            " 60%|██████    | 6/10 [00:00<00:00, 11.01it/s]\u001b[A\n",
            " 80%|████████  | 8/10 [00:00<00:00, 12.12it/s]\u001b[A\n",
            "100%|██████████| 1/1 [00:01<00:00,  1.30s/it]"
          ]
        },
        {
          "output_type": "stream",
          "name": "stdout",
          "text": [
            "Saving predictions to test_preds.csv\n",
            "Elapsed time = 0:00:02\n"
          ]
        },
        {
          "output_type": "stream",
          "name": "stderr",
          "text": [
            "\n"
          ]
        }
      ]
    },
    {
      "cell_type": "code",
      "source": [
        "df = pd.read_csv('tests/data/regression.csv')\n",
        "df['preds'] = [x[0] for x in preds]\n",
        "df"
      ],
      "metadata": {
        "id": "j-4hbBeerlX0",
        "outputId": "eb5fb56e-9149-494d-eff4-78a0a9142380",
        "colab": {
          "base_uri": "https://localhost:8080/",
          "height": 424
        }
      },
      "execution_count": null,
      "outputs": [
        {
          "output_type": "execute_result",
          "data": {
            "text/html": [
              "\n",
              "  <div id=\"df-d0e52af3-179b-4f65-950f-c1a95aec73d4\">\n",
              "    <div class=\"colab-df-container\">\n",
              "      <div>\n",
              "<style scoped>\n",
              "    .dataframe tbody tr th:only-of-type {\n",
              "        vertical-align: middle;\n",
              "    }\n",
              "\n",
              "    .dataframe tbody tr th {\n",
              "        vertical-align: top;\n",
              "    }\n",
              "\n",
              "    .dataframe thead th {\n",
              "        text-align: right;\n",
              "    }\n",
              "</style>\n",
              "<table border=\"1\" class=\"dataframe\">\n",
              "  <thead>\n",
              "    <tr style=\"text-align: right;\">\n",
              "      <th></th>\n",
              "      <th>smiles</th>\n",
              "      <th>logSolubility</th>\n",
              "      <th>preds</th>\n",
              "    </tr>\n",
              "  </thead>\n",
              "  <tbody>\n",
              "    <tr>\n",
              "      <th>0</th>\n",
              "      <td>OCC3OC(OCC2OC(OC(C#N)c1ccccc1)C(O)C(O)C2O)C(O)...</td>\n",
              "      <td>-0.770</td>\n",
              "      <td>-1.169089</td>\n",
              "    </tr>\n",
              "    <tr>\n",
              "      <th>1</th>\n",
              "      <td>Cc1occc1C(=O)Nc2ccccc2</td>\n",
              "      <td>-3.300</td>\n",
              "      <td>-2.950731</td>\n",
              "    </tr>\n",
              "    <tr>\n",
              "      <th>2</th>\n",
              "      <td>CC(C)=CCCC(C)=CC(=O)</td>\n",
              "      <td>-2.060</td>\n",
              "      <td>-1.805328</td>\n",
              "    </tr>\n",
              "    <tr>\n",
              "      <th>3</th>\n",
              "      <td>c1ccc2c(c1)ccc3c2ccc4c5ccccc5ccc43</td>\n",
              "      <td>-7.870</td>\n",
              "      <td>-7.098153</td>\n",
              "    </tr>\n",
              "    <tr>\n",
              "      <th>4</th>\n",
              "      <td>c1ccsc1</td>\n",
              "      <td>-1.330</td>\n",
              "      <td>0.095896</td>\n",
              "    </tr>\n",
              "    <tr>\n",
              "      <th>...</th>\n",
              "      <td>...</td>\n",
              "      <td>...</td>\n",
              "      <td>...</td>\n",
              "    </tr>\n",
              "    <tr>\n",
              "      <th>495</th>\n",
              "      <td>Nc1cc(nc(N)n1=O)N2CCCCC2</td>\n",
              "      <td>-1.989</td>\n",
              "      <td>-2.916466</td>\n",
              "    </tr>\n",
              "    <tr>\n",
              "      <th>496</th>\n",
              "      <td>Nc2cccc3nc1ccccc1cc23</td>\n",
              "      <td>-4.220</td>\n",
              "      <td>-4.451346</td>\n",
              "    </tr>\n",
              "    <tr>\n",
              "      <th>497</th>\n",
              "      <td>c1ccc2cc3c4cccc5cccc(c3cc2c1)c45</td>\n",
              "      <td>-8.490</td>\n",
              "      <td>-7.776431</td>\n",
              "    </tr>\n",
              "    <tr>\n",
              "      <th>498</th>\n",
              "      <td>OC(c1ccc(Cl)cc1)(c2ccc(Cl)cc2)C(Cl)(Cl)Cl</td>\n",
              "      <td>-5.666</td>\n",
              "      <td>-5.773000</td>\n",
              "    </tr>\n",
              "    <tr>\n",
              "      <th>499</th>\n",
              "      <td>C1Cc2cccc3cccc1c23</td>\n",
              "      <td>-4.630</td>\n",
              "      <td>-5.793628</td>\n",
              "    </tr>\n",
              "  </tbody>\n",
              "</table>\n",
              "<p>500 rows × 3 columns</p>\n",
              "</div>\n",
              "      <button class=\"colab-df-convert\" onclick=\"convertToInteractive('df-d0e52af3-179b-4f65-950f-c1a95aec73d4')\"\n",
              "              title=\"Convert this dataframe to an interactive table.\"\n",
              "              style=\"display:none;\">\n",
              "        \n",
              "  <svg xmlns=\"http://www.w3.org/2000/svg\" height=\"24px\"viewBox=\"0 0 24 24\"\n",
              "       width=\"24px\">\n",
              "    <path d=\"M0 0h24v24H0V0z\" fill=\"none\"/>\n",
              "    <path d=\"M18.56 5.44l.94 2.06.94-2.06 2.06-.94-2.06-.94-.94-2.06-.94 2.06-2.06.94zm-11 1L8.5 8.5l.94-2.06 2.06-.94-2.06-.94L8.5 2.5l-.94 2.06-2.06.94zm10 10l.94 2.06.94-2.06 2.06-.94-2.06-.94-.94-2.06-.94 2.06-2.06.94z\"/><path d=\"M17.41 7.96l-1.37-1.37c-.4-.4-.92-.59-1.43-.59-.52 0-1.04.2-1.43.59L10.3 9.45l-7.72 7.72c-.78.78-.78 2.05 0 2.83L4 21.41c.39.39.9.59 1.41.59.51 0 1.02-.2 1.41-.59l7.78-7.78 2.81-2.81c.8-.78.8-2.07 0-2.86zM5.41 20L4 18.59l7.72-7.72 1.47 1.35L5.41 20z\"/>\n",
              "  </svg>\n",
              "      </button>\n",
              "      \n",
              "  <style>\n",
              "    .colab-df-container {\n",
              "      display:flex;\n",
              "      flex-wrap:wrap;\n",
              "      gap: 12px;\n",
              "    }\n",
              "\n",
              "    .colab-df-convert {\n",
              "      background-color: #E8F0FE;\n",
              "      border: none;\n",
              "      border-radius: 50%;\n",
              "      cursor: pointer;\n",
              "      display: none;\n",
              "      fill: #1967D2;\n",
              "      height: 32px;\n",
              "      padding: 0 0 0 0;\n",
              "      width: 32px;\n",
              "    }\n",
              "\n",
              "    .colab-df-convert:hover {\n",
              "      background-color: #E2EBFA;\n",
              "      box-shadow: 0px 1px 2px rgba(60, 64, 67, 0.3), 0px 1px 3px 1px rgba(60, 64, 67, 0.15);\n",
              "      fill: #174EA6;\n",
              "    }\n",
              "\n",
              "    [theme=dark] .colab-df-convert {\n",
              "      background-color: #3B4455;\n",
              "      fill: #D2E3FC;\n",
              "    }\n",
              "\n",
              "    [theme=dark] .colab-df-convert:hover {\n",
              "      background-color: #434B5C;\n",
              "      box-shadow: 0px 1px 3px 1px rgba(0, 0, 0, 0.15);\n",
              "      filter: drop-shadow(0px 1px 2px rgba(0, 0, 0, 0.3));\n",
              "      fill: #FFFFFF;\n",
              "    }\n",
              "  </style>\n",
              "\n",
              "      <script>\n",
              "        const buttonEl =\n",
              "          document.querySelector('#df-d0e52af3-179b-4f65-950f-c1a95aec73d4 button.colab-df-convert');\n",
              "        buttonEl.style.display =\n",
              "          google.colab.kernel.accessAllowed ? 'block' : 'none';\n",
              "\n",
              "        async function convertToInteractive(key) {\n",
              "          const element = document.querySelector('#df-d0e52af3-179b-4f65-950f-c1a95aec73d4');\n",
              "          const dataTable =\n",
              "            await google.colab.kernel.invokeFunction('convertToInteractive',\n",
              "                                                     [key], {});\n",
              "          if (!dataTable) return;\n",
              "\n",
              "          const docLinkHtml = 'Like what you see? Visit the ' +\n",
              "            '<a target=\"_blank\" href=https://colab.research.google.com/notebooks/data_table.ipynb>data table notebook</a>'\n",
              "            + ' to learn more about interactive tables.';\n",
              "          element.innerHTML = '';\n",
              "          dataTable['output_type'] = 'display_data';\n",
              "          await google.colab.output.renderOutput(dataTable, element);\n",
              "          const docLink = document.createElement('div');\n",
              "          docLink.innerHTML = docLinkHtml;\n",
              "          element.appendChild(docLink);\n",
              "        }\n",
              "      </script>\n",
              "    </div>\n",
              "  </div>\n",
              "  "
            ],
            "text/plain": [
              "                                                smiles  logSolubility     preds\n",
              "0    OCC3OC(OCC2OC(OC(C#N)c1ccccc1)C(O)C(O)C2O)C(O)...         -0.770 -1.169089\n",
              "1                               Cc1occc1C(=O)Nc2ccccc2         -3.300 -2.950731\n",
              "2                                 CC(C)=CCCC(C)=CC(=O)         -2.060 -1.805328\n",
              "3                   c1ccc2c(c1)ccc3c2ccc4c5ccccc5ccc43         -7.870 -7.098153\n",
              "4                                              c1ccsc1         -1.330  0.095896\n",
              "..                                                 ...            ...       ...\n",
              "495                           Nc1cc(nc(N)n1=O)N2CCCCC2         -1.989 -2.916466\n",
              "496                              Nc2cccc3nc1ccccc1cc23         -4.220 -4.451346\n",
              "497                   c1ccc2cc3c4cccc5cccc(c3cc2c1)c45         -8.490 -7.776431\n",
              "498          OC(c1ccc(Cl)cc1)(c2ccc(Cl)cc2)C(Cl)(Cl)Cl         -5.666 -5.773000\n",
              "499                                 C1Cc2cccc3cccc1c23         -4.630 -5.793628\n",
              "\n",
              "[500 rows x 3 columns]"
            ]
          },
          "metadata": {},
          "execution_count": 4
        }
      ]
    },
    {
      "cell_type": "markdown",
      "source": [
        "# Predict from SMILES list"
      ],
      "metadata": {
        "id": "GE9Tof7UK8cI"
      }
    },
    {
      "cell_type": "code",
      "source": [
        "smiles = [['CCC'], ['CCCC'], ['OCC']]\n",
        "arguments = [\n",
        "    '--test_path', '/dev/null',\n",
        "    '--preds_path', '/dev/null',\n",
        "    '--checkpoint_dir', 'test_checkpoints'\n",
        "]\n",
        "\n",
        "args = chemprop.args.PredictArgs().parse_args(arguments)\n",
        "preds = chemprop.train.make_predictions(args=args, smiles=smiles)"
      ],
      "metadata": {
        "colab": {
          "base_uri": "https://localhost:8080/"
        },
        "id": "kswx6y_uJHqW",
        "outputId": "d35854b1-bc13-4540-911d-e12271ef8ee2"
      },
      "execution_count": null,
      "outputs": [
        {
          "output_type": "stream",
          "name": "stdout",
          "text": [
            "Loading training args\n"
          ]
        },
        {
          "output_type": "stream",
          "name": "stderr",
          "text": [
            "/usr/local/lib/python3.7/dist-packages/torch/utils/data/dataloader.py:481: UserWarning: This DataLoader will create 8 worker processes in total. Our suggested max number of worker in current system is 2, which is smaller than what this DataLoader is going to create. Please be aware that excessive worker creation might get DataLoader running slow or even freeze, lower the worker number to avoid potential slowness/freeze if necessary.\n",
            "  cpuset_checked))\n"
          ]
        },
        {
          "output_type": "stream",
          "name": "stdout",
          "text": [
            "Setting molecule featurization parameters to default.\n",
            "Loading data\n",
            "Validating SMILES\n",
            "Test size = 3\n",
            "Predicting with an ensemble of 1 models\n"
          ]
        },
        {
          "output_type": "stream",
          "name": "stderr",
          "text": [
            "\r  0%|          | 0/1 [00:00<?, ?it/s]"
          ]
        },
        {
          "output_type": "stream",
          "name": "stdout",
          "text": [
            "Loading pretrained parameter \"encoder.encoder.0.cached_zero_vector\".\n",
            "Loading pretrained parameter \"encoder.encoder.0.W_i.weight\".\n",
            "Loading pretrained parameter \"encoder.encoder.0.W_h.weight\".\n",
            "Loading pretrained parameter \"encoder.encoder.0.W_o.weight\".\n",
            "Loading pretrained parameter \"encoder.encoder.0.W_o.bias\".\n",
            "Loading pretrained parameter \"ffn.1.weight\".\n",
            "Loading pretrained parameter \"ffn.1.bias\".\n",
            "Loading pretrained parameter \"ffn.4.weight\".\n",
            "Loading pretrained parameter \"ffn.4.bias\".\n"
          ]
        },
        {
          "output_type": "stream",
          "name": "stderr",
          "text": [
            "\n",
            "  0%|          | 0/1 [00:00<?, ?it/s]\u001b[A\n",
            "100%|██████████| 1/1 [00:00<00:00,  3.73it/s]\u001b[A\n",
            "100%|██████████| 1/1 [00:00<00:00,  1.36it/s]"
          ]
        },
        {
          "output_type": "stream",
          "name": "stdout",
          "text": [
            "Saving predictions to /dev/null\n",
            "Elapsed time = 0:00:01\n"
          ]
        },
        {
          "output_type": "stream",
          "name": "stderr",
          "text": [
            "\n"
          ]
        }
      ]
    },
    {
      "cell_type": "markdown",
      "source": [
        "# Load model once, predict multiple times"
      ],
      "metadata": {
        "id": "54x-eGwxLEZ1"
      }
    },
    {
      "cell_type": "code",
      "source": [
        "arguments = [\n",
        "    '--test_path', '/dev/null',\n",
        "    '--preds_path', '/dev/null',\n",
        "    '--checkpoint_dir', 'test_checkpoints'\n",
        "]\n",
        "\n",
        "args = chemprop.args.PredictArgs().parse_args(arguments)\n",
        "\n",
        "model_objects = chemprop.train.load_model(args=args)\n",
        "\n",
        "smiles = [['CCC'], ['CCCC'], ['OCC']]\n",
        "preds = chemprop.train.make_predictions(args=args, smiles=smiles, model_objects=model_objects)\n",
        "\n",
        "smiles = [['CCCC'], ['CCCCC'], ['COCC']]\n",
        "preds = chemprop.train.make_predictions(args=args, smiles=smiles, model_objects=model_objects)"
      ],
      "metadata": {
        "colab": {
          "base_uri": "https://localhost:8080/"
        },
        "id": "ICmfelGD7rcf",
        "outputId": "3e2bc0f2-fa87-4120-b444-dd87ccc3f881"
      },
      "execution_count": null,
      "outputs": [
        {
          "output_type": "stream",
          "name": "stdout",
          "text": [
            "Loading training args\n"
          ]
        },
        {
          "output_type": "stream",
          "name": "stderr",
          "text": [
            "/usr/local/lib/python3.7/dist-packages/torch/utils/data/dataloader.py:481: UserWarning: This DataLoader will create 8 worker processes in total. Our suggested max number of worker in current system is 2, which is smaller than what this DataLoader is going to create. Please be aware that excessive worker creation might get DataLoader running slow or even freeze, lower the worker number to avoid potential slowness/freeze if necessary.\n",
            "  cpuset_checked))\n"
          ]
        },
        {
          "output_type": "stream",
          "name": "stdout",
          "text": [
            "Loading pretrained parameter \"encoder.encoder.0.cached_zero_vector\".\n",
            "Loading pretrained parameter \"encoder.encoder.0.W_i.weight\".\n",
            "Loading pretrained parameter \"encoder.encoder.0.W_h.weight\".\n",
            "Loading pretrained parameter \"encoder.encoder.0.W_o.weight\".\n",
            "Loading pretrained parameter \"encoder.encoder.0.W_o.bias\".\n",
            "Loading pretrained parameter \"ffn.1.weight\".\n",
            "Loading pretrained parameter \"ffn.1.bias\".\n",
            "Loading pretrained parameter \"ffn.4.weight\".\n",
            "Loading pretrained parameter \"ffn.4.bias\".\n",
            "Setting molecule featurization parameters to default.\n",
            "Loading data\n",
            "Validating SMILES\n",
            "Test size = 3\n",
            "Predicting with an ensemble of 1 models\n"
          ]
        },
        {
          "output_type": "stream",
          "name": "stderr",
          "text": [
            "  0%|          | 0/1 [00:00<?, ?it/s]\n",
            "  0%|          | 0/1 [00:00<?, ?it/s]\u001b[A\n",
            "100%|██████████| 1/1 [00:00<00:00,  3.30it/s]\u001b[A\n",
            "100%|██████████| 1/1 [00:00<00:00,  2.11it/s]\n"
          ]
        },
        {
          "output_type": "stream",
          "name": "stdout",
          "text": [
            "Saving predictions to /dev/null\n",
            "Elapsed time = 0:00:00\n",
            "Setting molecule featurization parameters to default.\n",
            "Loading data\n",
            "Validating SMILES\n",
            "Test size = 3\n",
            "Predicting with an ensemble of 1 models\n"
          ]
        },
        {
          "output_type": "stream",
          "name": "stderr",
          "text": [
            "  0%|          | 0/1 [00:00<?, ?it/s]\n",
            "  0%|          | 0/1 [00:00<?, ?it/s]\u001b[A\n",
            "100%|██████████| 1/1 [00:00<00:00,  2.86it/s]\u001b[A\n",
            "100%|██████████| 1/1 [00:00<00:00,  1.78it/s]"
          ]
        },
        {
          "output_type": "stream",
          "name": "stdout",
          "text": [
            "Saving predictions to /dev/null\n",
            "Elapsed time = 0:00:01\n"
          ]
        },
        {
          "output_type": "stream",
          "name": "stderr",
          "text": [
            "\n"
          ]
        }
      ]
    }
  ]
}