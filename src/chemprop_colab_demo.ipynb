{
 "cells": [
  {
   "cell_type": "markdown",
   "metadata": {
    "id": "6jZnD-vU9Fd-"
   },
   "source": [
    "# Setup"
   ]
  },
  {
   "cell_type": "code",
   "execution_count": null,
   "metadata": {
    "colab": {
     "base_uri": "https://localhost:8080/",
     "height": 1000
    },
    "id": "WGZxehx_44Rj",
    "outputId": "e513a81a-c067-4994-8663-0ededbcf8f1f"
   },
   "outputs": [],
   "source": [
    "import os\n",
    "import chemprop\n",
    "import pandas as pd"
   ]
  },
  {
   "cell_type": "markdown",
   "metadata": {
    "id": "MQ67V6hr_6Yz"
   },
   "source": [
    "# Train regression model"
   ]
  },
  {
   "cell_type": "code",
   "execution_count": null,
   "metadata": {
    "colab": {
     "base_uri": "https://localhost:8080/"
    },
    "id": "pqtogu2T7OTd",
    "outputId": "3c450746-28ba-4593-f273-93e9207e9662",
    "scrolled": true
   },
   "outputs": [],
   "source": [
    "arguments = [\n",
    "    '--data_path', '../data/examples/regression.csv',\n",
    "    '--dataset_type', 'regression',\n",
    "    '--save_dir', 'test_checkpoints',\n",
    "    '--epochs', '5'\n",
    "]\n",
    "\n",
    "args = chemprop.args.TrainArgs().parse_args(arguments)\n",
    "mean_score, std_score = chemprop.train.cross_validate(args=args, train_func=chemprop.train.run_training)"
   ]
  },
  {
   "cell_type": "markdown",
   "metadata": {
    "id": "WZktZ7DsAAMn"
   },
   "source": [
    "# Predict from file"
   ]
  },
  {
   "cell_type": "code",
   "execution_count": null,
   "metadata": {
    "colab": {
     "base_uri": "https://localhost:8080/"
    },
    "id": "5a1-7UXcJCss",
    "outputId": "7e2d8471-cad4-4eca-af1e-ca56fcdf3e76",
    "scrolled": true
   },
   "outputs": [],
   "source": [
    "arguments = [\n",
    "    '--test_path', '../data/examples/regression.csv',\n",
    "    '--preds_path', 'test_preds.csv',\n",
    "    '--checkpoint_dir', 'test_checkpoints'\n",
    "]\n",
    "\n",
    "args = chemprop.args.PredictArgs().parse_args(arguments)\n",
    "preds = chemprop.train.make_predictions(args=args)"
   ]
  },
  {
   "cell_type": "code",
   "execution_count": null,
   "metadata": {
    "colab": {
     "base_uri": "https://localhost:8080/",
     "height": 424
    },
    "id": "j-4hbBeerlX0",
    "outputId": "eb5fb56e-9149-494d-eff4-78a0a9142380"
   },
   "outputs": [],
   "source": [
    "df = pd.read_csv('../data/examples/regression.csv')\n",
    "df['preds'] = [x[0] for x in preds]\n",
    "df"
   ]
  },
  {
   "cell_type": "markdown",
   "metadata": {
    "id": "GE9Tof7UK8cI"
   },
   "source": [
    "# Predict from SMILES list"
   ]
  },
  {
   "cell_type": "code",
   "execution_count": null,
   "metadata": {
    "colab": {
     "base_uri": "https://localhost:8080/"
    },
    "id": "kswx6y_uJHqW",
    "outputId": "d35854b1-bc13-4540-911d-e12271ef8ee2",
    "scrolled": true
   },
   "outputs": [],
   "source": [
    "smiles = [['CCC'], ['CCCC'], ['OCC']]\n",
    "arguments = [\n",
    "    '--test_path', '/dev/null',\n",
    "    '--preds_path', '/dev/null',\n",
    "    '--checkpoint_dir', 'test_checkpoints'\n",
    "]\n",
    "\n",
    "args = chemprop.args.PredictArgs().parse_args(arguments)\n",
    "preds = chemprop.train.make_predictions(args=args, smiles=smiles)"
   ]
  },
  {
   "cell_type": "markdown",
   "metadata": {
    "id": "54x-eGwxLEZ1"
   },
   "source": [
    "# Load model once, predict multiple times"
   ]
  },
  {
   "cell_type": "code",
   "execution_count": null,
   "metadata": {
    "colab": {
     "base_uri": "https://localhost:8080/"
    },
    "id": "ICmfelGD7rcf",
    "outputId": "3e2bc0f2-fa87-4120-b444-dd87ccc3f881",
    "scrolled": true
   },
   "outputs": [],
   "source": [
    "arguments = [\n",
    "    '--test_path', '/dev/null',\n",
    "    '--preds_path', '/dev/null',\n",
    "    '--checkpoint_dir', 'test_checkpoints'\n",
    "]\n",
    "\n",
    "args = chemprop.args.PredictArgs().parse_args(arguments)\n",
    "\n",
    "model_objects = chemprop.train.load_model(args=args)\n",
    "\n",
    "smiles = [['CCC'], ['CCCC'], ['OCC']]\n",
    "preds = chemprop.train.make_predictions(args=args, smiles=smiles, model_objects=model_objects)\n",
    "\n",
    "smiles = [['CCCC'], ['CCCCC'], ['COCC']]\n",
    "preds = chemprop.train.make_predictions(args=args, smiles=smiles, model_objects=model_objects)"
   ]
  },
  {
   "cell_type": "markdown",
   "metadata": {},
   "source": [
    "# Reaction Training and Prediction"
   ]
  },
  {
   "cell_type": "code",
   "execution_count": null,
   "metadata": {},
   "outputs": [],
   "source": [
    "reaction_reg_df = pd.read_csv('../data/examples/reaction_regression.csv')\n",
    "reaction_reg_df"
   ]
  },
  {
   "cell_type": "code",
   "execution_count": null,
   "metadata": {},
   "outputs": [],
   "source": [
    "arguments = [\n",
    "    '--data_path', '../data/examples/reaction_regression.csv',\n",
    "    '--dataset_type', 'regression',\n",
    "    '--save_dir', 'test_checkpoints',\n",
    "    '--epochs', '5',\n",
    "    '--reaction'\n",
    "]\n",
    "\n",
    "args = chemprop.args.TrainArgs().parse_args(arguments)\n",
    "mean_score, std_score = chemprop.train.cross_validate(args=args, train_func=chemprop.train.run_training)"
   ]
  },
  {
   "cell_type": "code",
   "execution_count": null,
   "metadata": {
    "scrolled": true
   },
   "outputs": [],
   "source": [
    "arguments = [\n",
    "    '--test_path', '../data/examples/reaction_regression.csv',\n",
    "    '--preds_path', 'test_preds.csv',\n",
    "    '--checkpoint_dir', 'test_checkpoints'\n",
    "]\n",
    "\n",
    "args = chemprop.args.PredictArgs().parse_args(arguments)\n",
    "preds = chemprop.train.make_predictions(args=args)"
   ]
  },
  {
   "cell_type": "markdown",
   "metadata": {},
   "source": [
    "# Multiple-Molecule Inputs"
   ]
  },
  {
   "cell_type": "code",
   "execution_count": null,
   "metadata": {},
   "outputs": [],
   "source": [
    "multimolecule_df = pd.read_csv('../data/examples/classification_multimolecule.csv')\n",
    "multimolecule_df"
   ]
  },
  {
   "cell_type": "code",
   "execution_count": null,
   "metadata": {
    "scrolled": true
   },
   "outputs": [],
   "source": [
    "arguments = [\n",
    "    '--data_path', '../data/examples/classification_multimolecule.csv',\n",
    "    '--dataset_type', 'classification',\n",
    "    '--save_dir', 'test_checkpoints',\n",
    "    '--epochs', '5',\n",
    "    '--number_of_molecules', '2',\n",
    "    '--split_key_molecule', '1' # defaults to 0 (1st column) if not specified\n",
    "]\n",
    "\n",
    "args = chemprop.args.TrainArgs().parse_args(arguments)\n",
    "mean_score, std_score = chemprop.train.cross_validate(args=args, train_func=chemprop.train.run_training)"
   ]
  },
  {
   "cell_type": "code",
   "execution_count": null,
   "metadata": {
    "colab": {
     "base_uri": "https://localhost:8080/"
    },
    "id": "5a1-7UXcJCss",
    "outputId": "7e2d8471-cad4-4eca-af1e-ca56fcdf3e76",
    "scrolled": true
   },
   "outputs": [],
   "source": [
    "arguments = [\n",
    "    '--test_path', '../data/examples/classification_multimolecule.csv',\n",
    "    '--preds_path', 'test_preds.csv',\n",
    "    '--checkpoint_dir', 'test_checkpoints',\n",
    "    '--number_of_molecules', '2',\n",
    "]\n",
    "\n",
    "args = chemprop.args.PredictArgs().parse_args(arguments)\n",
    "preds = chemprop.train.make_predictions(args=args)"
   ]
  },
  {
   "cell_type": "markdown",
   "metadata": {},
   "source": [
    "# Split Type"
   ]
  },
  {
   "cell_type": "code",
   "execution_count": null,
   "metadata": {},
   "outputs": [],
   "source": [
    "arguments = [\n",
    "    '--data_path', '../data/examples/regression.csv',\n",
    "    '--dataset_type', 'regression',\n",
    "    '--save_dir', 'test_checkpoints',\n",
    "    '--epochs', '5',\n",
    "    '--split_type', 'scaffold_balanced'\n",
    "]\n",
    "\n",
    "args = chemprop.args.TrainArgs().parse_args(arguments)\n",
    "mean_score, std_score = chemprop.train.cross_validate(args=args, train_func=chemprop.train.run_training)"
   ]
  },
  {
   "cell_type": "markdown",
   "metadata": {},
   "source": [
    "# Ensembling and Uncertainty"
   ]
  },
  {
   "cell_type": "code",
   "execution_count": null,
   "metadata": {},
   "outputs": [],
   "source": [
    "arguments = [\n",
    "    '--data_path', '../data/examples/regression.csv',\n",
    "    '--dataset_type', 'regression',\n",
    "    '--save_dir', 'test_checkpoints',\n",
    "    '--epochs', '5',\n",
    "    '--ensemble_size', '3'\n",
    "]\n",
    "\n",
    "args = chemprop.args.TrainArgs().parse_args(arguments)\n",
    "mean_score, std_score = chemprop.train.cross_validate(args=args, train_func=chemprop.train.run_training)"
   ]
  },
  {
   "cell_type": "code",
   "execution_count": null,
   "metadata": {
    "scrolled": true
   },
   "outputs": [],
   "source": [
    "arguments = [\n",
    "    '--test_path', '../data/examples/classification_multimolecule.csv',\n",
    "    '--preds_path', 'test_preds.csv',\n",
    "    '--checkpoint_dir', 'test_checkpoints',\n",
    "    '--ensemble_variance'\n",
    "]\n",
    "\n",
    "args = chemprop.args.PredictArgs().parse_args(arguments)\n",
    "preds = chemprop.train.make_predictions(args=args)"
   ]
  },
  {
   "cell_type": "markdown",
   "metadata": {},
   "source": [
    "# Fingerprint"
   ]
  },
  {
   "cell_type": "code",
   "execution_count": null,
   "metadata": {},
   "outputs": [],
   "source": [
    "arguments = [\n",
    "    '--data_path', '../data/examples/regression.csv',\n",
    "    '--dataset_type', 'regression',\n",
    "    '--save_dir', 'test_checkpoints',\n",
    "    '--epochs', '5'\n",
    "]\n",
    "\n",
    "args = chemprop.args.TrainArgs().parse_args(arguments)\n",
    "mean_score, std_score = chemprop.train.cross_validate(args=args, train_func=chemprop.train.run_training)"
   ]
  },
  {
   "cell_type": "code",
   "execution_count": null,
   "metadata": {
    "scrolled": true
   },
   "outputs": [],
   "source": [
    "arguments = [\n",
    "    '--test_path', '../data/examples/regression.csv',\n",
    "    '--preds_path', 'test_preds.csv',\n",
    "    '--checkpoint_dir', 'test_checkpoints',\n",
    "    '--fingerprint_type', 'MPN'\n",
    "]\n",
    "\n",
    "args = chemprop.args.FingerprintArgs().parse_args(arguments)\n",
    "preds = chemprop.train.molecule_fingerprint.molecule_fingerprint(args=args)"
   ]
  },
  {
   "cell_type": "markdown",
   "metadata": {},
   "source": [
    "# Spectra"
   ]
  },
  {
   "cell_type": "code",
   "execution_count": null,
   "metadata": {},
   "outputs": [],
   "source": [
    "arguments = [\n",
    "    '--data_path', '../data/examples/spectra.csv',\n",
    "    '--dataset_type', 'spectra',\n",
    "    '--save_dir', 'test_checkpoints_spectra',\n",
    "    '--epochs', '5',\n",
    "    '--features_path', '../data/examples/spectra_features.csv',\n",
    "    '--split_type', 'random_with_repeated_smiles',\n",
    "]\n",
    "\n",
    "args = chemprop.args.TrainArgs().parse_args(arguments)\n",
    "mean_score, std_score = chemprop.train.cross_validate(args=args, train_func=chemprop.train.run_training)       "
   ]
  },
  {
   "cell_type": "code",
   "execution_count": null,
   "metadata": {
    "scrolled": true
   },
   "outputs": [],
   "source": [
    "arguments = [\n",
    "    '--test_path', '../data/examples/spectra.csv',\n",
    "    '--preds_path', 'test_preds_spectra.csv',\n",
    "    '--checkpoint_dir', 'test_checkpoints_spectra',\n",
    "    '--features_path', '../data/examples/spectra_features.csv'\n",
    "]\n",
    "\n",
    "args = chemprop.args.PredictArgs().parse_args(arguments)\n",
    "preds = chemprop.train.make_predictions(args=args)"
   ]
  },
  {
   "cell_type": "markdown",
   "metadata": {},
   "source": [
    "# Pretraining / Transfer Learning"
   ]
  },
  {
   "cell_type": "code",
   "execution_count": null,
   "metadata": {},
   "outputs": [],
   "source": [
    "arguments = [\n",
    "    '--data_path', '../data/examples/regression.csv',\n",
    "    '--dataset_type', 'regression',\n",
    "    '--save_dir', 'test_checkpoints_tl',\n",
    "    '--epochs', '5',\n",
    "]\n",
    "\n",
    "args = chemprop.args.TrainArgs().parse_args(arguments)\n",
    "mean_score, std_score = chemprop.train.cross_validate(args=args, train_func=chemprop.train.run_training)       "
   ]
  },
  {
   "cell_type": "code",
   "execution_count": null,
   "metadata": {},
   "outputs": [],
   "source": [
    "arguments = [\n",
    "    '--data_path', '../data/examples/regression.csv',\n",
    "    '--dataset_type', 'regression',\n",
    "    '--save_dir', 'test_checkpoints_tl',\n",
    "    '--epochs', '5',\n",
    "    '--checkpoint_frzn', 'test_checkpoints_tl/fold_0/model_0/model.pt'\n",
    "]\n",
    "\n",
    "args = chemprop.args.TrainArgs().parse_args(arguments)\n",
    "mean_score, std_score = chemprop.train.cross_validate(args=args, train_func=chemprop.train.run_training)       "
   ]
  },
  {
   "cell_type": "code",
   "execution_count": null,
   "metadata": {
    "scrolled": true
   },
   "outputs": [],
   "source": [
    "arguments = [\n",
    "    '--test_path', '../data/examples/spectra.csv',\n",
    "    '--preds_path', 'test_preds_spectra.csv',\n",
    "    '--checkpoint_dir', 'test_checkpoints_spectra',\n",
    "    '--features_path', '../data/examples/spectra_features.csv'\n",
    "]\n",
    "\n",
    "args = chemprop.args.PredictArgs().parse_args(arguments)\n",
    "preds = chemprop.train.make_predictions(args=args)"
   ]
  },
  {
   "cell_type": "code",
   "execution_count": null,
   "metadata": {},
   "outputs": [],
   "source": []
  }
 ],
 "metadata": {
  "colab": {
   "name": "chemprop_colab_demo.ipynb",
   "provenance": []
  },
  "kernelspec": {
   "display_name": "Python 3",
   "language": "python",
   "name": "python3"
  },
  "language_info": {
   "codemirror_mode": {
    "name": "ipython",
    "version": 3
   },
   "file_extension": ".py",
   "mimetype": "text/x-python",
   "name": "python",
   "nbconvert_exporter": "python",
   "pygments_lexer": "ipython3",
   "version": "3.8.10"
  }
 },
 "nbformat": 4,
 "nbformat_minor": 1
}
