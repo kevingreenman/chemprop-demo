{
 "cells": [
  {
   "cell_type": "markdown",
   "metadata": {
    "id": "6jZnD-vU9Fd-"
   },
   "source": [
    "# Setup"
   ]
  },
  {
   "cell_type": "code",
   "execution_count": 1,
   "metadata": {
    "colab": {
     "base_uri": "https://localhost:8080/",
     "height": 1000
    },
    "id": "WGZxehx_44Rj",
    "outputId": "e513a81a-c067-4994-8663-0ededbcf8f1f"
   },
   "outputs": [
    {
     "name": "stderr",
     "output_type": "stream",
     "text": [
      "RDKit WARNING: [20:48:03] Enabling RDKit 2019.09.3 jupyter extensions\n"
     ]
    }
   ],
   "source": [
    "import os\n",
    "import chemprop\n",
    "import pandas as pd"
   ]
  },
  {
   "cell_type": "markdown",
   "metadata": {
    "id": "MQ67V6hr_6Yz"
   },
   "source": [
    "# Train model"
   ]
  },
  {
   "cell_type": "code",
   "execution_count": 2,
   "metadata": {
    "colab": {
     "base_uri": "https://localhost:8080/"
    },
    "id": "pqtogu2T7OTd",
    "outputId": "3c450746-28ba-4593-f273-93e9207e9662"
   },
   "outputs": [
    {
     "name": "stderr",
     "output_type": "stream",
     "text": [
      "Command line\n",
      "python /apps/share64/debian10/anaconda/anaconda-7/lib/python3.8/site-packages/ipykernel_launcher.py -f /home/nanohub/kpgreenm/.local/share/jupyter/runtime/kernel-db726f63-d737-44be-a107-50fbe986ada7.json\n",
      "Args\n",
      "{'activation': 'ReLU',\n",
      " 'adding_h': False,\n",
      " 'aggregation': 'mean',\n",
      " 'aggregation_norm': 100,\n",
      " 'alternative_loss_function': None,\n",
      " 'atom_descriptor_scaling': True,\n",
      " 'atom_descriptors': None,\n",
      " 'atom_descriptors_path': None,\n",
      " 'atom_descriptors_size': 0,\n",
      " 'atom_features_size': 0,\n",
      " 'atom_messages': False,\n",
      " 'batch_size': 50,\n",
      " 'bias': False,\n",
      " 'bond_feature_scaling': True,\n",
      " 'bond_features_path': None,\n",
      " 'bond_features_size': 0,\n",
      " 'cache_cutoff': 10000,\n",
      " 'checkpoint_dir': None,\n",
      " 'checkpoint_frzn': None,\n",
      " 'checkpoint_path': None,\n",
      " 'checkpoint_paths': None,\n",
      " 'class_balance': False,\n",
      " 'config_path': None,\n",
      " 'crossval_index_dir': None,\n",
      " 'crossval_index_file': None,\n",
      " 'crossval_index_sets': None,\n",
      " 'cuda': False,\n",
      " 'data_path': '../data/examples/regression.csv',\n",
      " 'data_weights_path': None,\n",
      " 'dataset_type': 'regression',\n",
      " 'depth': 3,\n",
      " 'device': device(type='cpu'),\n",
      " 'dropout': 0.0,\n",
      " 'empty_cache': False,\n",
      " 'ensemble_size': 1,\n",
      " 'epochs': 10,\n",
      " 'explicit_h': False,\n",
      " 'extra_metrics': [],\n",
      " 'features_generator': None,\n",
      " 'features_only': False,\n",
      " 'features_path': None,\n",
      " 'features_scaling': True,\n",
      " 'features_size': None,\n",
      " 'ffn_hidden_size': 300,\n",
      " 'ffn_num_layers': 2,\n",
      " 'final_lr': 0.0001,\n",
      " 'folds_file': None,\n",
      " 'freeze_first_only': False,\n",
      " 'frzn_ffn_layers': 0,\n",
      " 'gpu': None,\n",
      " 'grad_clip': None,\n",
      " 'hidden_size': 300,\n",
      " 'ignore_columns': None,\n",
      " 'init_lr': 0.0001,\n",
      " 'log_frequency': 10,\n",
      " 'max_data_size': None,\n",
      " 'max_lr': 0.001,\n",
      " 'metric': 'rmse',\n",
      " 'metrics': ['rmse'],\n",
      " 'minimize_score': True,\n",
      " 'mpn_shared': False,\n",
      " 'multiclass_num_classes': 3,\n",
      " 'no_atom_descriptor_scaling': False,\n",
      " 'no_bond_features_scaling': False,\n",
      " 'no_cache_mol': False,\n",
      " 'no_cuda': False,\n",
      " 'no_features_scaling': False,\n",
      " 'num_folds': 1,\n",
      " 'num_lrs': 1,\n",
      " 'num_tasks': 1,\n",
      " 'num_workers': 8,\n",
      " 'number_of_molecules': 1,\n",
      " 'overwrite_default_atom_features': False,\n",
      " 'overwrite_default_bond_features': False,\n",
      " 'phase_features_path': None,\n",
      " 'pytorch_seed': 0,\n",
      " 'quiet': False,\n",
      " 'reaction': False,\n",
      " 'reaction_mode': 'reac_diff',\n",
      " 'resume_experiment': False,\n",
      " 'save_dir': 'test_checkpoints',\n",
      " 'save_preds': False,\n",
      " 'save_smiles_splits': False,\n",
      " 'seed': 0,\n",
      " 'separate_test_atom_descriptors_path': None,\n",
      " 'separate_test_bond_features_path': None,\n",
      " 'separate_test_features_path': None,\n",
      " 'separate_test_path': None,\n",
      " 'separate_test_phase_features_path': None,\n",
      " 'separate_val_atom_descriptors_path': None,\n",
      " 'separate_val_bond_features_path': None,\n",
      " 'separate_val_features_path': None,\n",
      " 'separate_val_path': None,\n",
      " 'separate_val_phase_features_path': None,\n",
      " 'show_individual_scores': False,\n",
      " 'smiles_columns': ['smiles'],\n",
      " 'spectra_activation': 'exp',\n",
      " 'spectra_phase_mask_path': None,\n",
      " 'spectra_target_floor': 1e-08,\n",
      " 'split_key_molecule': 0,\n",
      " 'split_sizes': (0.8, 0.1, 0.1),\n",
      " 'split_type': 'random',\n",
      " 'target_columns': None,\n",
      " 'target_weights': None,\n",
      " 'task_names': ['logSolubility'],\n",
      " 'test': False,\n",
      " 'test_fold_index': None,\n",
      " 'train_data_size': None,\n",
      " 'undirected': False,\n",
      " 'use_input_features': False,\n",
      " 'val_fold_index': None,\n",
      " 'warmup_epochs': 2.0}\n",
      "Setting molecule featurization parameters to default.\n",
      "Loading data\n",
      "500it [00:00, 117303.50it/s]\n",
      "100%|██████████| 500/500 [00:00<00:00, 208133.39it/s]\n",
      "100%|██████████| 500/500 [00:00<00:00, 7395.41it/s]\n",
      "Number of tasks = 1\n",
      "Fold 0\n",
      "Splitting data with seed 0\n",
      "Total size = 500 | train size = 400 | val size = 50 | test size = 50\n",
      "Fitting scaler\n",
      "Building model 0\n",
      "MoleculeModel(\n",
      "  (encoder): MPN(\n",
      "    (encoder): ModuleList(\n",
      "      (0): MPNEncoder(\n",
      "        (dropout_layer): Dropout(p=0.0, inplace=False)\n",
      "        (act_func): ReLU()\n",
      "        (W_i): Linear(in_features=147, out_features=300, bias=False)\n",
      "        (W_h): Linear(in_features=300, out_features=300, bias=False)\n",
      "        (W_o): Linear(in_features=433, out_features=300, bias=True)\n",
      "      )\n",
      "    )\n",
      "  )\n",
      "  (ffn): Sequential(\n",
      "    (0): Dropout(p=0.0, inplace=False)\n",
      "    (1): Linear(in_features=300, out_features=300, bias=True)\n",
      "    (2): ReLU()\n",
      "    (3): Dropout(p=0.0, inplace=False)\n",
      "    (4): Linear(in_features=300, out_features=1, bias=True)\n",
      "  )\n",
      ")\n",
      "Number of parameters = 355,201\n",
      "  0%|          | 0/10 [00:00<?, ?it/s]Epoch 0\n",
      "\n",
      "  0%|          | 0/8 [00:00<?, ?it/s]\u001b[A\n",
      " 12%|█▎        | 1/8 [00:00<00:00,  7.66it/s]\u001b[A\n",
      " 38%|███▊      | 3/8 [00:00<00:00, 10.16it/s]\u001b[A\n",
      " 62%|██████▎   | 5/8 [00:00<00:00, 11.09it/s]\u001b[A\n",
      " 88%|████████▊ | 7/8 [00:00<00:00, 11.12it/s]\u001b[A\n",
      "                                             \u001b[A\n",
      "  0%|          | 0/1 [00:00<?, ?it/s]\u001b[A\n",
      "                                     \u001b[AValidation rmse = 1.706184\n",
      " 10%|█         | 1/10 [00:00<00:08,  1.07it/s]Epoch 1\n",
      "\n",
      "  0%|          | 0/8 [00:00<?, ?it/s]\u001b[ALoss = 6.5336e-01, PNorm = 34.0270, GNorm = 6.2553, lr_0 = 7.1875e-04\n",
      "\n",
      " 38%|███▊      | 3/8 [00:00<00:00, 24.59it/s]\u001b[A\n",
      " 75%|███████▌  | 6/8 [00:00<00:00, 24.94it/s]\u001b[A\n",
      "                                             \u001b[A\n",
      "  0%|          | 0/1 [00:00<?, ?it/s]\u001b[A\n",
      "                                     \u001b[AValidation rmse = 1.387885\n",
      " 20%|██        | 2/10 [00:01<00:05,  1.52it/s]Epoch 2\n",
      "\n",
      "  0%|          | 0/8 [00:00<?, ?it/s]\u001b[A\n",
      " 38%|███▊      | 3/8 [00:00<00:00, 23.48it/s]\u001b[ALoss = 4.4383e-01, PNorm = 34.0829, GNorm = 7.6522, lr_0 = 8.3536e-04\n",
      "\n",
      " 75%|███████▌  | 6/8 [00:00<00:00, 24.21it/s]\u001b[A\n",
      "                                             \u001b[A\n",
      "  0%|          | 0/1 [00:00<?, ?it/s]\u001b[A\n",
      "                                     \u001b[AValidation rmse = 1.296203\n",
      " 30%|███       | 3/10 [00:01<00:04,  1.75it/s]Epoch 3\n",
      "\n",
      "  0%|          | 0/8 [00:00<?, ?it/s]\u001b[A\n",
      " 38%|███▊      | 3/8 [00:00<00:00, 24.63it/s]\u001b[ALoss = 3.9575e-01, PNorm = 34.1232, GNorm = 2.8411, lr_0 = 5.8294e-04\n",
      "\n",
      " 75%|███████▌  | 6/8 [00:00<00:00, 24.71it/s]\u001b[A\n",
      "                                             \u001b[A\n",
      "  0%|          | 0/1 [00:00<?, ?it/s]\u001b[A\n",
      "                                     \u001b[AValidation rmse = 1.388531\n",
      " 40%|████      | 4/10 [00:02<00:02,  2.05it/s]Epoch 4\n",
      "\n",
      "  0%|          | 0/8 [00:00<?, ?it/s]\u001b[A\n",
      " 38%|███▊      | 3/8 [00:00<00:00, 24.86it/s]\u001b[A\n",
      " 75%|███████▌  | 6/8 [00:00<00:00, 24.78it/s]\u001b[ALoss = 3.2737e-01, PNorm = 34.1457, GNorm = 4.2983, lr_0 = 4.0679e-04\n",
      "\n",
      "                                             \u001b[A\n",
      "  0%|          | 0/1 [00:00<?, ?it/s]\u001b[A\n",
      "                                     \u001b[AValidation rmse = 1.314328\n",
      " 50%|█████     | 5/10 [00:02<00:02,  2.27it/s]Epoch 5\n",
      "\n",
      "  0%|          | 0/8 [00:00<?, ?it/s]\u001b[A\n",
      " 38%|███▊      | 3/8 [00:00<00:00, 25.01it/s]\u001b[A\n",
      " 75%|███████▌  | 6/8 [00:00<00:00, 24.74it/s]\u001b[A\n",
      "                                             \u001b[A\n",
      "  0%|          | 0/1 [00:00<?, ?it/s]\u001b[A\n",
      "                                     \u001b[AValidation rmse = 1.124440\n",
      " 60%|██████    | 6/10 [00:03<00:01,  2.21it/s]Epoch 6\n",
      "\n",
      "  0%|          | 0/8 [00:00<?, ?it/s]\u001b[ALoss = 2.0717e-01, PNorm = 34.1595, GNorm = 4.3385, lr_0 = 2.8387e-04\n",
      "\n",
      " 38%|███▊      | 3/8 [00:00<00:00, 24.84it/s]\u001b[A\n",
      " 75%|███████▌  | 6/8 [00:00<00:00, 24.11it/s]\u001b[A\n",
      "                                             \u001b[A\n",
      "  0%|          | 0/1 [00:00<?, ?it/s]\u001b[A\n",
      "                                     \u001b[AValidation rmse = 1.229203\n",
      " 70%|███████   | 7/10 [00:03<00:01,  2.33it/s]Epoch 7\n",
      "\n",
      "  0%|          | 0/8 [00:00<?, ?it/s]\u001b[A\n",
      " 38%|███▊      | 3/8 [00:00<00:00, 25.32it/s]\u001b[ALoss = 2.4429e-01, PNorm = 34.1692, GNorm = 0.9455, lr_0 = 1.9810e-04\n",
      "\n",
      " 75%|███████▌  | 6/8 [00:00<00:00, 23.95it/s]\u001b[A\n",
      "                                             \u001b[A\n",
      "  0%|          | 0/1 [00:00<?, ?it/s]\u001b[A\n",
      "                                     \u001b[AValidation rmse = 1.085435\n",
      " 80%|████████  | 8/10 [00:03<00:00,  2.21it/s]Epoch 8\n",
      "\n",
      "  0%|          | 0/8 [00:00<?, ?it/s]\u001b[A\n",
      " 38%|███▊      | 3/8 [00:00<00:00, 24.17it/s]\u001b[ALoss = 2.2316e-01, PNorm = 34.1767, GNorm = 3.0194, lr_0 = 1.3824e-04\n",
      "\n",
      " 75%|███████▌  | 6/8 [00:00<00:00, 23.58it/s]\u001b[A\n",
      "                                             \u001b[A\n",
      "  0%|          | 0/1 [00:00<?, ?it/s]\u001b[A\n",
      "                                     \u001b[AValidation rmse = 1.077724\n",
      " 90%|█████████ | 9/10 [00:04<00:00,  2.14it/s]Epoch 9\n",
      "\n",
      "  0%|          | 0/8 [00:00<?, ?it/s]\u001b[A\n",
      " 38%|███▊      | 3/8 [00:00<00:00, 26.25it/s]\u001b[A\n",
      " 75%|███████▌  | 6/8 [00:00<00:00, 24.05it/s]\u001b[ALoss = 2.1501e-01, PNorm = 34.1824, GNorm = 1.3258, lr_0 = 1.0000e-04\n"
     ]
    },
    {
     "name": "stderr",
     "output_type": "stream",
     "text": [
      "\n",
      "                                             \u001b[A\n",
      "  0%|          | 0/1 [00:00<?, ?it/s]\u001b[A\n",
      "                                     \u001b[AValidation rmse = 1.064996\n",
      "100%|██████████| 10/10 [00:04<00:00,  2.03it/s]\n",
      "Model 0 best validation rmse = 1.064996 on epoch 9\n",
      "Loading pretrained parameter \"encoder.encoder.0.cached_zero_vector\".\n",
      "Loading pretrained parameter \"encoder.encoder.0.W_i.weight\".\n",
      "Loading pretrained parameter \"encoder.encoder.0.W_h.weight\".\n",
      "Loading pretrained parameter \"encoder.encoder.0.W_o.weight\".\n",
      "Loading pretrained parameter \"encoder.encoder.0.W_o.bias\".\n",
      "Loading pretrained parameter \"ffn.1.weight\".\n",
      "Loading pretrained parameter \"ffn.1.bias\".\n",
      "Loading pretrained parameter \"ffn.4.weight\".\n",
      "Loading pretrained parameter \"ffn.4.bias\".\n",
      "Model 0 test rmse = 1.380981         \n",
      "Ensemble test rmse = 1.380981\n",
      "1-fold cross validation\n",
      "\tSeed 0 ==> test rmse = 1.380981\n",
      "Overall test rmse = 1.380981 +/- 0.000000\n",
      "Elapsed time = 0:00:06\n"
     ]
    }
   ],
   "source": [
    "arguments = [\n",
    "    '--data_path', '../data/examples/regression.csv',\n",
    "    '--dataset_type', 'regression',\n",
    "    '--save_dir', 'test_checkpoints',\n",
    "    '--epochs', '10'\n",
    "]\n",
    "\n",
    "args = chemprop.args.TrainArgs().parse_args(arguments)\n",
    "mean_score, std_score = chemprop.train.cross_validate(args=args, train_func=chemprop.train.run_training)"
   ]
  },
  {
   "cell_type": "markdown",
   "metadata": {
    "id": "WZktZ7DsAAMn"
   },
   "source": [
    "# Predict from file"
   ]
  },
  {
   "cell_type": "code",
   "execution_count": 3,
   "metadata": {
    "colab": {
     "base_uri": "https://localhost:8080/"
    },
    "id": "5a1-7UXcJCss",
    "outputId": "7e2d8471-cad4-4eca-af1e-ca56fcdf3e76"
   },
   "outputs": [
    {
     "name": "stdout",
     "output_type": "stream",
     "text": [
      "Loading training args\n"
     ]
    },
    {
     "name": "stderr",
     "output_type": "stream",
     "text": [
      "500it [00:00, 175405.82it/s]\n",
      "100%|██████████| 500/500 [00:00<00:00, 220636.72it/s]\n",
      "  0%|          | 0/1 [00:00<?, ?it/s]"
     ]
    },
    {
     "name": "stdout",
     "output_type": "stream",
     "text": [
      "Setting molecule featurization parameters to default.\n",
      "Loading data\n",
      "Validating SMILES\n",
      "Test size = 500\n",
      "Predicting with an ensemble of 1 models\n",
      "Loading pretrained parameter \"encoder.encoder.0.cached_zero_vector\".\n",
      "Loading pretrained parameter \"encoder.encoder.0.W_i.weight\".\n",
      "Loading pretrained parameter \"encoder.encoder.0.W_h.weight\".\n",
      "Loading pretrained parameter \"encoder.encoder.0.W_o.weight\".\n",
      "Loading pretrained parameter \"encoder.encoder.0.W_o.bias\".\n",
      "Loading pretrained parameter \"ffn.1.weight\".\n",
      "Loading pretrained parameter \"ffn.1.bias\".\n",
      "Loading pretrained parameter \"ffn.4.weight\".\n",
      "Loading pretrained parameter \"ffn.4.bias\".\n"
     ]
    },
    {
     "name": "stderr",
     "output_type": "stream",
     "text": [
      "\n",
      "  0%|          | 0/10 [00:00<?, ?it/s]\u001b[A\n",
      " 10%|█         | 1/10 [00:00<00:01,  4.73it/s]\u001b[A\n",
      " 70%|███████   | 7/10 [00:00<00:00, 26.18it/s]\u001b[A\n",
      "100%|██████████| 1/1 [00:00<00:00,  1.71it/s] \u001b[A"
     ]
    },
    {
     "name": "stdout",
     "output_type": "stream",
     "text": [
      "Saving predictions to test_preds.csv\n",
      "Elapsed time = 0:00:01\n"
     ]
    },
    {
     "name": "stderr",
     "output_type": "stream",
     "text": [
      "\n"
     ]
    }
   ],
   "source": [
    "arguments = [\n",
    "    '--test_path', '../data/examples/regression.csv',\n",
    "    '--preds_path', 'test_preds.csv',\n",
    "    '--checkpoint_dir', 'test_checkpoints'\n",
    "]\n",
    "\n",
    "args = chemprop.args.PredictArgs().parse_args(arguments)\n",
    "preds = chemprop.train.make_predictions(args=args)"
   ]
  },
  {
   "cell_type": "code",
   "execution_count": 4,
   "metadata": {
    "colab": {
     "base_uri": "https://localhost:8080/",
     "height": 424
    },
    "id": "j-4hbBeerlX0",
    "outputId": "eb5fb56e-9149-494d-eff4-78a0a9142380"
   },
   "outputs": [
    {
     "data": {
      "text/html": [
       "<div>\n",
       "<style scoped>\n",
       "    .dataframe tbody tr th:only-of-type {\n",
       "        vertical-align: middle;\n",
       "    }\n",
       "\n",
       "    .dataframe tbody tr th {\n",
       "        vertical-align: top;\n",
       "    }\n",
       "\n",
       "    .dataframe thead th {\n",
       "        text-align: right;\n",
       "    }\n",
       "</style>\n",
       "<table border=\"1\" class=\"dataframe\">\n",
       "  <thead>\n",
       "    <tr style=\"text-align: right;\">\n",
       "      <th></th>\n",
       "      <th>smiles</th>\n",
       "      <th>logSolubility</th>\n",
       "      <th>preds</th>\n",
       "    </tr>\n",
       "  </thead>\n",
       "  <tbody>\n",
       "    <tr>\n",
       "      <th>0</th>\n",
       "      <td>OCC3OC(OCC2OC(OC(C#N)c1ccccc1)C(O)C(O)C2O)C(O)...</td>\n",
       "      <td>-0.770</td>\n",
       "      <td>-1.161903</td>\n",
       "    </tr>\n",
       "    <tr>\n",
       "      <th>1</th>\n",
       "      <td>Cc1occc1C(=O)Nc2ccccc2</td>\n",
       "      <td>-3.300</td>\n",
       "      <td>-2.937626</td>\n",
       "    </tr>\n",
       "    <tr>\n",
       "      <th>2</th>\n",
       "      <td>CC(C)=CCCC(C)=CC(=O)</td>\n",
       "      <td>-2.060</td>\n",
       "      <td>-1.781541</td>\n",
       "    </tr>\n",
       "    <tr>\n",
       "      <th>3</th>\n",
       "      <td>c1ccc2c(c1)ccc3c2ccc4c5ccccc5ccc43</td>\n",
       "      <td>-7.870</td>\n",
       "      <td>-7.057194</td>\n",
       "    </tr>\n",
       "    <tr>\n",
       "      <th>4</th>\n",
       "      <td>c1ccsc1</td>\n",
       "      <td>-1.330</td>\n",
       "      <td>0.116815</td>\n",
       "    </tr>\n",
       "    <tr>\n",
       "      <th>...</th>\n",
       "      <td>...</td>\n",
       "      <td>...</td>\n",
       "      <td>...</td>\n",
       "    </tr>\n",
       "    <tr>\n",
       "      <th>495</th>\n",
       "      <td>Nc1cc(nc(N)n1=O)N2CCCCC2</td>\n",
       "      <td>-1.989</td>\n",
       "      <td>-2.896474</td>\n",
       "    </tr>\n",
       "    <tr>\n",
       "      <th>496</th>\n",
       "      <td>Nc2cccc3nc1ccccc1cc23</td>\n",
       "      <td>-4.220</td>\n",
       "      <td>-4.423431</td>\n",
       "    </tr>\n",
       "    <tr>\n",
       "      <th>497</th>\n",
       "      <td>c1ccc2cc3c4cccc5cccc(c3cc2c1)c45</td>\n",
       "      <td>-8.490</td>\n",
       "      <td>-7.753436</td>\n",
       "    </tr>\n",
       "    <tr>\n",
       "      <th>498</th>\n",
       "      <td>OC(c1ccc(Cl)cc1)(c2ccc(Cl)cc2)C(Cl)(Cl)Cl</td>\n",
       "      <td>-5.666</td>\n",
       "      <td>-5.737333</td>\n",
       "    </tr>\n",
       "    <tr>\n",
       "      <th>499</th>\n",
       "      <td>C1Cc2cccc3cccc1c23</td>\n",
       "      <td>-4.630</td>\n",
       "      <td>-5.773683</td>\n",
       "    </tr>\n",
       "  </tbody>\n",
       "</table>\n",
       "<p>500 rows × 3 columns</p>\n",
       "</div>"
      ],
      "text/plain": [
       "                                                smiles  logSolubility  \\\n",
       "0    OCC3OC(OCC2OC(OC(C#N)c1ccccc1)C(O)C(O)C2O)C(O)...         -0.770   \n",
       "1                               Cc1occc1C(=O)Nc2ccccc2         -3.300   \n",
       "2                                 CC(C)=CCCC(C)=CC(=O)         -2.060   \n",
       "3                   c1ccc2c(c1)ccc3c2ccc4c5ccccc5ccc43         -7.870   \n",
       "4                                              c1ccsc1         -1.330   \n",
       "..                                                 ...            ...   \n",
       "495                           Nc1cc(nc(N)n1=O)N2CCCCC2         -1.989   \n",
       "496                              Nc2cccc3nc1ccccc1cc23         -4.220   \n",
       "497                   c1ccc2cc3c4cccc5cccc(c3cc2c1)c45         -8.490   \n",
       "498          OC(c1ccc(Cl)cc1)(c2ccc(Cl)cc2)C(Cl)(Cl)Cl         -5.666   \n",
       "499                                 C1Cc2cccc3cccc1c23         -4.630   \n",
       "\n",
       "        preds  \n",
       "0   -1.161903  \n",
       "1   -2.937626  \n",
       "2   -1.781541  \n",
       "3   -7.057194  \n",
       "4    0.116815  \n",
       "..        ...  \n",
       "495 -2.896474  \n",
       "496 -4.423431  \n",
       "497 -7.753436  \n",
       "498 -5.737333  \n",
       "499 -5.773683  \n",
       "\n",
       "[500 rows x 3 columns]"
      ]
     },
     "execution_count": 4,
     "metadata": {},
     "output_type": "execute_result"
    }
   ],
   "source": [
    "df = pd.read_csv('../data/examples/regression.csv')\n",
    "df['preds'] = [x[0] for x in preds]\n",
    "df"
   ]
  },
  {
   "cell_type": "markdown",
   "metadata": {
    "id": "GE9Tof7UK8cI"
   },
   "source": [
    "# Predict from SMILES list"
   ]
  },
  {
   "cell_type": "code",
   "execution_count": 5,
   "metadata": {
    "colab": {
     "base_uri": "https://localhost:8080/"
    },
    "id": "kswx6y_uJHqW",
    "outputId": "d35854b1-bc13-4540-911d-e12271ef8ee2"
   },
   "outputs": [
    {
     "name": "stdout",
     "output_type": "stream",
     "text": [
      "Loading training args\n"
     ]
    },
    {
     "name": "stderr",
     "output_type": "stream",
     "text": [
      "  0%|          | 0/1 [00:00<?, ?it/s]\n",
      "  0%|          | 0/1 [00:00<?, ?it/s]\u001b[A"
     ]
    },
    {
     "name": "stdout",
     "output_type": "stream",
     "text": [
      "Setting molecule featurization parameters to default.\n",
      "Loading data\n",
      "Validating SMILES\n",
      "Test size = 3\n",
      "Predicting with an ensemble of 1 models\n",
      "Loading pretrained parameter \"encoder.encoder.0.cached_zero_vector\".\n",
      "Loading pretrained parameter \"encoder.encoder.0.W_i.weight\".\n",
      "Loading pretrained parameter \"encoder.encoder.0.W_h.weight\".\n",
      "Loading pretrained parameter \"encoder.encoder.0.W_o.weight\".\n",
      "Loading pretrained parameter \"encoder.encoder.0.W_o.bias\".\n",
      "Loading pretrained parameter \"ffn.1.weight\".\n",
      "Loading pretrained parameter \"ffn.1.bias\".\n",
      "Loading pretrained parameter \"ffn.4.weight\".\n",
      "Loading pretrained parameter \"ffn.4.bias\".\n"
     ]
    },
    {
     "name": "stderr",
     "output_type": "stream",
     "text": [
      "\n",
      "100%|██████████| 1/1 [00:00<00:00,  6.22it/s]\u001b[A\n",
      "100%|██████████| 1/1 [00:00<00:00,  2.52it/s]\u001b[A"
     ]
    },
    {
     "name": "stdout",
     "output_type": "stream",
     "text": [
      "Saving predictions to /dev/null\n",
      "Elapsed time = 0:00:01\n"
     ]
    },
    {
     "name": "stderr",
     "output_type": "stream",
     "text": [
      "\n"
     ]
    }
   ],
   "source": [
    "smiles = [['CCC'], ['CCCC'], ['OCC']]\n",
    "arguments = [\n",
    "    '--test_path', '/dev/null',\n",
    "    '--preds_path', '/dev/null',\n",
    "    '--checkpoint_dir', 'test_checkpoints'\n",
    "]\n",
    "\n",
    "args = chemprop.args.PredictArgs().parse_args(arguments)\n",
    "preds = chemprop.train.make_predictions(args=args, smiles=smiles)"
   ]
  },
  {
   "cell_type": "markdown",
   "metadata": {
    "id": "54x-eGwxLEZ1"
   },
   "source": [
    "# Load model once, predict multiple times"
   ]
  },
  {
   "cell_type": "code",
   "execution_count": 6,
   "metadata": {
    "colab": {
     "base_uri": "https://localhost:8080/"
    },
    "id": "ICmfelGD7rcf",
    "outputId": "3e2bc0f2-fa87-4120-b444-dd87ccc3f881"
   },
   "outputs": [
    {
     "name": "stdout",
     "output_type": "stream",
     "text": [
      "Loading training args\n"
     ]
    },
    {
     "name": "stderr",
     "output_type": "stream",
     "text": [
      "  0%|          | 0/1 [00:00<?, ?it/s]\n",
      "  0%|          | 0/1 [00:00<?, ?it/s]\u001b[A"
     ]
    },
    {
     "name": "stdout",
     "output_type": "stream",
     "text": [
      "Loading pretrained parameter \"encoder.encoder.0.cached_zero_vector\".\n",
      "Loading pretrained parameter \"encoder.encoder.0.W_i.weight\".\n",
      "Loading pretrained parameter \"encoder.encoder.0.W_h.weight\".\n",
      "Loading pretrained parameter \"encoder.encoder.0.W_o.weight\".\n",
      "Loading pretrained parameter \"encoder.encoder.0.W_o.bias\".\n",
      "Loading pretrained parameter \"ffn.1.weight\".\n",
      "Loading pretrained parameter \"ffn.1.bias\".\n",
      "Loading pretrained parameter \"ffn.4.weight\".\n",
      "Loading pretrained parameter \"ffn.4.bias\".\n",
      "Setting molecule featurization parameters to default.\n",
      "Loading data\n",
      "Validating SMILES\n",
      "Test size = 3\n",
      "Predicting with an ensemble of 1 models\n"
     ]
    },
    {
     "name": "stderr",
     "output_type": "stream",
     "text": [
      "\n",
      "100%|██████████| 1/1 [00:00<00:00,  5.07it/s]\u001b[A\n",
      "100%|██████████| 1/1 [00:00<00:00,  4.04it/s]\u001b[A\n",
      "  0%|          | 0/1 [00:00<?, ?it/s]\n",
      "  0%|          | 0/1 [00:00<?, ?it/s]\u001b[A"
     ]
    },
    {
     "name": "stdout",
     "output_type": "stream",
     "text": [
      "Saving predictions to /dev/null\n",
      "Elapsed time = 0:00:00\n",
      "Setting molecule featurization parameters to default.\n",
      "Loading data\n",
      "Validating SMILES\n",
      "Test size = 3\n",
      "Predicting with an ensemble of 1 models\n"
     ]
    },
    {
     "name": "stderr",
     "output_type": "stream",
     "text": [
      "\n",
      "100%|██████████| 1/1 [00:00<00:00,  6.82it/s]\u001b[A\n",
      "100%|██████████| 1/1 [00:00<00:00,  5.23it/s]\u001b[A"
     ]
    },
    {
     "name": "stdout",
     "output_type": "stream",
     "text": [
      "Saving predictions to /dev/null\n",
      "Elapsed time = 0:00:00\n"
     ]
    },
    {
     "name": "stderr",
     "output_type": "stream",
     "text": [
      "\n"
     ]
    }
   ],
   "source": [
    "arguments = [\n",
    "    '--test_path', '/dev/null',\n",
    "    '--preds_path', '/dev/null',\n",
    "    '--checkpoint_dir', 'test_checkpoints'\n",
    "]\n",
    "\n",
    "args = chemprop.args.PredictArgs().parse_args(arguments)\n",
    "\n",
    "model_objects = chemprop.train.load_model(args=args)\n",
    "\n",
    "smiles = [['CCC'], ['CCCC'], ['OCC']]\n",
    "preds = chemprop.train.make_predictions(args=args, smiles=smiles, model_objects=model_objects)\n",
    "\n",
    "smiles = [['CCCC'], ['CCCCC'], ['COCC']]\n",
    "preds = chemprop.train.make_predictions(args=args, smiles=smiles, model_objects=model_objects)"
   ]
  }
 ],
 "metadata": {
  "colab": {
   "name": "chemprop_colab_demo.ipynb",
   "provenance": []
  },
  "kernelspec": {
   "display_name": "Python 3",
   "language": "python",
   "name": "python3"
  },
  "language_info": {
   "codemirror_mode": {
    "name": "ipython",
    "version": 3
   },
   "file_extension": ".py",
   "mimetype": "text/x-python",
   "name": "python",
   "nbconvert_exporter": "python",
   "pygments_lexer": "ipython3",
   "version": "3.8.10"
  }
 },
 "nbformat": 4,
 "nbformat_minor": 1
}
