{
 "cells": [
  {
   "cell_type": "markdown",
   "metadata": {
    "id": "6jZnD-vU9Fd-"
   },
   "source": [
    "# Setup"
   ]
  },
  {
   "cell_type": "code",
   "execution_count": null,
   "metadata": {
    "colab": {
     "base_uri": "https://localhost:8080/",
     "height": 1000
    },
    "id": "WGZxehx_44Rj",
    "outputId": "e513a81a-c067-4994-8663-0ededbcf8f1f"
   },
   "outputs": [],
   "source": [
    "import os\n",
    "import chemprop\n",
    "import pandas as pd\n",
    "import matplotlib.pyplot as plt\n",
    "from matplotlib.offsetbox import AnchoredText\n",
    "from sklearn.metrics import mean_absolute_error, mean_squared_error\n",
    "from sklearn.decomposition import PCA"
   ]
  },
  {
   "cell_type": "code",
   "execution_count": null,
   "metadata": {},
   "outputs": [],
   "source": [
    "def plot_parity(y_true, y_pred, y_pred_unc=None):\n",
    "    \n",
    "    axmin = min(min(y_true), min(y_pred)) - 0.1*(max(y_true)-min(y_true))\n",
    "    axmax = max(max(y_true), max(y_pred)) + 0.1*(max(y_true)-min(y_true))\n",
    "    \n",
    "    mae = mean_absolute_error(y_true, y_pred)\n",
    "    rmse = mean_squared_error(y_true, y_pred, squared=False)\n",
    "    \n",
    "    plt.plot([axmin, axmax], [axmin, axmax], '--k')\n",
    "\n",
    "    plt.errorbar(y_true, y_pred, yerr=y_pred_unc, linewidth=0, marker='o', markeredgecolor='w', alpha=1, elinewidth=1)\n",
    "    \n",
    "    plt.xlim((axmin, axmax))\n",
    "    plt.ylim((axmin, axmax))\n",
    "    \n",
    "    ax = plt.gca()\n",
    "    ax.set_aspect('equal')\n",
    "    \n",
    "    at = AnchoredText(\n",
    "    f\"MAE = {mae:.2f}\\nRMSE = {rmse:.2f}\", prop=dict(size=10), frameon=True, loc='upper left')\n",
    "    at.patch.set_boxstyle(\"round,pad=0.,rounding_size=0.2\")\n",
    "    ax.add_artist(at)\n",
    "    \n",
    "    plt.xlabel('True')\n",
    "    plt.ylabel('Chemprop Predicted')\n",
    "    \n",
    "    plt.show()\n",
    "    \n",
    "    return"
   ]
  },
  {
   "cell_type": "markdown",
   "metadata": {
    "id": "MQ67V6hr_6Yz"
   },
   "source": [
    "# Train regression model"
   ]
  },
  {
   "cell_type": "code",
   "execution_count": null,
   "metadata": {
    "colab": {
     "base_uri": "https://localhost:8080/"
    },
    "id": "pqtogu2T7OTd",
    "outputId": "3c450746-28ba-4593-f273-93e9207e9662",
    "scrolled": true
   },
   "outputs": [],
   "source": [
    "arguments = [\n",
    "    '--data_path', '../data/examples/regression.csv',\n",
    "    '--dataset_type', 'regression',\n",
    "    '--save_dir', 'test_checkpoints_reg',\n",
    "    '--epochs', '5',\n",
    "    '--save_smiles_splits'\n",
    "]\n",
    "\n",
    "args = chemprop.args.TrainArgs().parse_args(arguments)\n",
    "mean_score, std_score = chemprop.train.cross_validate(args=args, train_func=chemprop.train.run_training)"
   ]
  },
  {
   "cell_type": "markdown",
   "metadata": {
    "id": "WZktZ7DsAAMn"
   },
   "source": [
    "# Predict from file"
   ]
  },
  {
   "cell_type": "code",
   "execution_count": null,
   "metadata": {
    "colab": {
     "base_uri": "https://localhost:8080/"
    },
    "id": "5a1-7UXcJCss",
    "outputId": "7e2d8471-cad4-4eca-af1e-ca56fcdf3e76",
    "scrolled": true
   },
   "outputs": [],
   "source": [
    "arguments = [\n",
    "    '--test_path', 'test_checkpoints_reg/fold_0/test_smiles.csv',\n",
    "    '--preds_path', 'test_preds_reg.csv',\n",
    "    '--checkpoint_dir', 'test_checkpoints_reg'\n",
    "]\n",
    "\n",
    "args = chemprop.args.PredictArgs().parse_args(arguments)\n",
    "preds = chemprop.train.make_predictions(args=args)"
   ]
  },
  {
   "cell_type": "code",
   "execution_count": null,
   "metadata": {
    "colab": {
     "base_uri": "https://localhost:8080/",
     "height": 424
    },
    "id": "j-4hbBeerlX0",
    "outputId": "eb5fb56e-9149-494d-eff4-78a0a9142380",
    "scrolled": true
   },
   "outputs": [],
   "source": [
    "df = pd.read_csv('test_checkpoints_reg/fold_0/test_full.csv')\n",
    "df['preds'] = [x[0] for x in preds]\n",
    "df"
   ]
  },
  {
   "cell_type": "code",
   "execution_count": null,
   "metadata": {},
   "outputs": [],
   "source": [
    "plot_parity(df.logSolubility, df.preds)"
   ]
  },
  {
   "cell_type": "markdown",
   "metadata": {
    "id": "GE9Tof7UK8cI"
   },
   "source": [
    "# Predict from SMILES list"
   ]
  },
  {
   "cell_type": "code",
   "execution_count": null,
   "metadata": {
    "colab": {
     "base_uri": "https://localhost:8080/"
    },
    "id": "kswx6y_uJHqW",
    "outputId": "d35854b1-bc13-4540-911d-e12271ef8ee2",
    "scrolled": true
   },
   "outputs": [],
   "source": [
    "smiles = [['CCC'], ['CCCC'], ['OCC']]\n",
    "arguments = [\n",
    "    '--test_path', '/dev/null',\n",
    "    '--preds_path', '/dev/null',\n",
    "    '--checkpoint_dir', 'test_checkpoints_reg'\n",
    "]\n",
    "\n",
    "args = chemprop.args.PredictArgs().parse_args(arguments)\n",
    "preds = chemprop.train.make_predictions(args=args, smiles=smiles)"
   ]
  },
  {
   "cell_type": "markdown",
   "metadata": {
    "id": "54x-eGwxLEZ1"
   },
   "source": [
    "# Load model once, predict multiple times"
   ]
  },
  {
   "cell_type": "code",
   "execution_count": null,
   "metadata": {
    "colab": {
     "base_uri": "https://localhost:8080/"
    },
    "id": "ICmfelGD7rcf",
    "outputId": "3e2bc0f2-fa87-4120-b444-dd87ccc3f881",
    "scrolled": true
   },
   "outputs": [],
   "source": [
    "arguments = [\n",
    "    '--test_path', '/dev/null',\n",
    "    '--preds_path', '/dev/null',\n",
    "    '--checkpoint_dir', 'test_checkpoints_reg'\n",
    "]\n",
    "\n",
    "args = chemprop.args.PredictArgs().parse_args(arguments)\n",
    "\n",
    "model_objects = chemprop.train.load_model(args=args)\n",
    "\n",
    "smiles = [['CCC'], ['CCCC'], ['OCC']]\n",
    "preds = chemprop.train.make_predictions(args=args, smiles=smiles, model_objects=model_objects)\n",
    "\n",
    "smiles = [['CCCC'], ['CCCCC'], ['COCC']]\n",
    "preds = chemprop.train.make_predictions(args=args, smiles=smiles, model_objects=model_objects)"
   ]
  },
  {
   "cell_type": "markdown",
   "metadata": {},
   "source": [
    "# Reactions"
   ]
  },
  {
   "cell_type": "code",
   "execution_count": null,
   "metadata": {},
   "outputs": [],
   "source": [
    "reaction_reg_df = pd.read_csv('../data/examples/reaction_regression.csv')\n",
    "reaction_reg_df"
   ]
  },
  {
   "cell_type": "code",
   "execution_count": null,
   "metadata": {},
   "outputs": [],
   "source": [
    "arguments = [\n",
    "    '--data_path', '../data/examples/reaction_regression.csv',\n",
    "    '--dataset_type', 'regression',\n",
    "    '--save_dir', 'test_checkpoints_reaction',\n",
    "    '--epochs', '5',\n",
    "    '--reaction',\n",
    "    '--save_smiles_splits'\n",
    "]\n",
    "\n",
    "args = chemprop.args.TrainArgs().parse_args(arguments)\n",
    "mean_score, std_score = chemprop.train.cross_validate(args=args, train_func=chemprop.train.run_training)"
   ]
  },
  {
   "cell_type": "code",
   "execution_count": null,
   "metadata": {
    "scrolled": true
   },
   "outputs": [],
   "source": [
    "arguments = [\n",
    "    '--test_path', 'test_checkpoints_reaction/fold_0/test_smiles.csv',\n",
    "    '--preds_path', 'test_preds_reaction.csv',\n",
    "    '--checkpoint_dir', 'test_checkpoints_reaction'\n",
    "]\n",
    "\n",
    "args = chemprop.args.PredictArgs().parse_args(arguments)\n",
    "preds = chemprop.train.make_predictions(args=args)"
   ]
  },
  {
   "cell_type": "code",
   "execution_count": null,
   "metadata": {},
   "outputs": [],
   "source": [
    "df = pd.read_csv('test_checkpoints_reaction/fold_0/test_full.csv')\n",
    "df['preds'] = [x[0] for x in preds]\n",
    "\n",
    "plot_parity(df.ea, df.preds)"
   ]
  },
  {
   "cell_type": "markdown",
   "metadata": {},
   "source": [
    "# Multiple-Molecule Inputs"
   ]
  },
  {
   "cell_type": "code",
   "execution_count": null,
   "metadata": {},
   "outputs": [],
   "source": [
    "multimolecule_df = pd.read_csv('../data/examples/classification_multimolecule.csv')\n",
    "multimolecule_df"
   ]
  },
  {
   "cell_type": "code",
   "execution_count": null,
   "metadata": {
    "scrolled": true
   },
   "outputs": [],
   "source": [
    "arguments = [\n",
    "    '--data_path', '../data/examples/classification_multimolecule.csv',\n",
    "    '--dataset_type', 'classification',\n",
    "    '--save_dir', 'test_checkpoints_multimolecule',\n",
    "    '--epochs', '5',\n",
    "    '--save_smiles_splits',\n",
    "    '--number_of_molecules', '2',\n",
    "    '--split_key_molecule', '1' # defaults to 0 (1st column) if not specified\n",
    "]\n",
    "\n",
    "args = chemprop.args.TrainArgs().parse_args(arguments)\n",
    "mean_score, std_score = chemprop.train.cross_validate(args=args, train_func=chemprop.train.run_training)"
   ]
  },
  {
   "cell_type": "code",
   "execution_count": null,
   "metadata": {
    "colab": {
     "base_uri": "https://localhost:8080/"
    },
    "id": "5a1-7UXcJCss",
    "outputId": "7e2d8471-cad4-4eca-af1e-ca56fcdf3e76",
    "scrolled": true
   },
   "outputs": [],
   "source": [
    "arguments = [\n",
    "    '--test_path', 'test_checkpoints_multimolecule/fold_0/test_smiles.csv',\n",
    "    '--preds_path', 'test_preds_multimolecule.csv',\n",
    "    '--checkpoint_dir', 'test_checkpoints_multimolecule',\n",
    "    '--number_of_molecules', '2',\n",
    "]\n",
    "\n",
    "args = chemprop.args.PredictArgs().parse_args(arguments)\n",
    "preds = chemprop.train.make_predictions(args=args)"
   ]
  },
  {
   "cell_type": "markdown",
   "metadata": {},
   "source": [
    "# Split Type"
   ]
  },
  {
   "cell_type": "code",
   "execution_count": null,
   "metadata": {},
   "outputs": [],
   "source": [
    "arguments = [\n",
    "    '--data_path', '../data/examples/regression.csv',\n",
    "    '--dataset_type', 'regression',\n",
    "    '--save_dir', 'test_checkpoints_splits',\n",
    "    '--epochs', '5',\n",
    "    '--split_type', 'scaffold_balanced',\n",
    "    '--save_smiles_splits'\n",
    "]\n",
    "\n",
    "args = chemprop.args.TrainArgs().parse_args(arguments)\n",
    "mean_score, std_score = chemprop.train.cross_validate(args=args, train_func=chemprop.train.run_training)"
   ]
  },
  {
   "cell_type": "code",
   "execution_count": null,
   "metadata": {},
   "outputs": [],
   "source": [
    "arguments = [\n",
    "    '--test_path', 'test_checkpoints_splits/fold_0/test_smiles.csv',\n",
    "    '--preds_path', 'test_preds_splits.csv',\n",
    "    '--checkpoint_dir', 'test_checkpoints_splits',\n",
    "]\n",
    "\n",
    "args = chemprop.args.PredictArgs().parse_args(arguments)\n",
    "preds = chemprop.train.make_predictions(args=args)"
   ]
  },
  {
   "cell_type": "code",
   "execution_count": null,
   "metadata": {},
   "outputs": [],
   "source": [
    "df = pd.read_csv('test_checkpoints_splits/fold_0/test_full.csv')\n",
    "df['preds'] = [x[0] for x in preds]\n",
    "\n",
    "plot_parity(df.logSolubility, df.preds)"
   ]
  },
  {
   "cell_type": "markdown",
   "metadata": {},
   "source": [
    "# Ensembling and Uncertainty"
   ]
  },
  {
   "cell_type": "code",
   "execution_count": null,
   "metadata": {},
   "outputs": [],
   "source": [
    "arguments = [\n",
    "    '--data_path', '../data/examples/reaction_regression.csv',\n",
    "    '--dataset_type', 'regression',\n",
    "    '--save_dir', 'test_checkpoints_ensemble',\n",
    "    '--epochs', '5',\n",
    "    '--reaction',\n",
    "    '--save_smiles_splits',\n",
    "    '--ensemble_size', '5',\n",
    "    '--split_type', 'scaffold_balanced'\n",
    "]\n",
    "\n",
    "args = chemprop.args.TrainArgs().parse_args(arguments)\n",
    "mean_score, std_score = chemprop.train.cross_validate(args=args, train_func=chemprop.train.run_training)"
   ]
  },
  {
   "cell_type": "code",
   "execution_count": null,
   "metadata": {
    "scrolled": true
   },
   "outputs": [],
   "source": [
    "arguments = [\n",
    "    '--test_path', 'test_checkpoints_ensemble/fold_0/test_smiles.csv',\n",
    "    '--preds_path', 'test_preds_ensemble.csv',\n",
    "    '--checkpoint_dir', 'test_checkpoints_ensemble',\n",
    "    '--ensemble_variance'\n",
    "]\n",
    "\n",
    "args = chemprop.args.PredictArgs().parse_args(arguments)\n",
    "preds = chemprop.train.make_predictions(args=args)"
   ]
  },
  {
   "cell_type": "code",
   "execution_count": null,
   "metadata": {
    "scrolled": true
   },
   "outputs": [],
   "source": [
    "preds_df = pd.read_csv('test_preds_ensemble.csv')\n",
    "preds_df"
   ]
  },
  {
   "cell_type": "code",
   "execution_count": null,
   "metadata": {},
   "outputs": [],
   "source": [
    "df = pd.read_csv('test_checkpoints_ensemble/fold_0/test_full.csv')\n",
    "plot_parity(df.ea, preds_df.ea, preds_df.ea_epi_unc)"
   ]
  },
  {
   "cell_type": "markdown",
   "metadata": {},
   "source": [
    "# Fingerprint"
   ]
  },
  {
   "cell_type": "code",
   "execution_count": null,
   "metadata": {
    "scrolled": true
   },
   "outputs": [],
   "source": [
    "arguments = [\n",
    "    '--test_path', '../data/examples/regression.csv',\n",
    "    '--preds_path', 'test_preds_fingerprint.csv',\n",
    "    '--checkpoint_dir', 'test_checkpoints_reg',\n",
    "    '--fingerprint_type', 'MPN'\n",
    "]\n",
    "\n",
    "args = chemprop.args.FingerprintArgs().parse_args(arguments)\n",
    "preds = chemprop.train.molecule_fingerprint.molecule_fingerprint(args=args)"
   ]
  },
  {
   "cell_type": "code",
   "execution_count": null,
   "metadata": {},
   "outputs": [],
   "source": [
    "preds.squeeze().shape"
   ]
  },
  {
   "cell_type": "code",
   "execution_count": null,
   "metadata": {},
   "outputs": [],
   "source": [
    "df = pd.read_csv('../data/examples/regression.csv')\n",
    "\n",
    "pca = PCA(n_components=2)\n",
    "pca_xy = pca.fit_transform(preds.squeeze())\n",
    "plt.scatter(pca_xy[:,0], pca_xy[:,1], s=30, c=df.logSolubility, edgecolor='w')\n",
    "plt.colorbar(label='logSolubility')\n",
    "plt.xlabel('PCA 1')\n",
    "plt.ylabel('PCA 2')\n",
    "plt.show()"
   ]
  },
  {
   "cell_type": "markdown",
   "metadata": {},
   "source": [
    "# Spectra"
   ]
  },
  {
   "cell_type": "code",
   "execution_count": null,
   "metadata": {},
   "outputs": [],
   "source": [
    "arguments = [\n",
    "    '--data_path', '../data/examples/spectra.csv',\n",
    "    '--dataset_type', 'spectra',\n",
    "    '--save_dir', 'test_checkpoints_spectra',\n",
    "    '--epochs', '5',\n",
    "    '--features_path', '../data/examples/spectra_features.csv',\n",
    "    '--split_type', 'random_with_repeated_smiles',\n",
    "    '--save_smiles_splits'\n",
    "]\n",
    "\n",
    "args = chemprop.args.TrainArgs().parse_args(arguments)\n",
    "mean_score, std_score = chemprop.train.cross_validate(args=args, train_func=chemprop.train.run_training)       "
   ]
  },
  {
   "cell_type": "code",
   "execution_count": null,
   "metadata": {
    "scrolled": true
   },
   "outputs": [],
   "source": [
    "arguments = [\n",
    "    '--test_path', 'test_checkpoints_spectra/fold_0/test_smiles.csv',\n",
    "    '--preds_path', 'test_preds_spectra.csv',\n",
    "    '--checkpoint_dir', 'test_checkpoints_spectra',\n",
    "    '--features_path', '../data/examples/spectra_features.csv'\n",
    "]\n",
    "\n",
    "args = chemprop.args.PredictArgs().parse_args(arguments)\n",
    "preds = chemprop.train.make_predictions(args=args)"
   ]
  },
  {
   "cell_type": "markdown",
   "metadata": {},
   "source": [
    "# Pretraining / Transfer Learning"
   ]
  },
  {
   "cell_type": "code",
   "execution_count": null,
   "metadata": {},
   "outputs": [],
   "source": [
    "arguments = [\n",
    "    '--data_path', '../data/examples/regression.csv',\n",
    "    '--dataset_type', 'regression',\n",
    "    '--save_dir', 'test_checkpoints_transfer',\n",
    "    '--epochs', '5',\n",
    "    '--save_smiles_splits'\n",
    "]\n",
    "\n",
    "args = chemprop.args.TrainArgs().parse_args(arguments)\n",
    "mean_score, std_score = chemprop.train.cross_validate(args=args, train_func=chemprop.train.run_training)       "
   ]
  },
  {
   "cell_type": "code",
   "execution_count": null,
   "metadata": {},
   "outputs": [],
   "source": [
    "arguments = [\n",
    "    '--data_path', '../data/examples/regression.csv',\n",
    "    '--dataset_type', 'regression',\n",
    "    '--save_dir', 'test_checkpoints_transfer',\n",
    "    '--epochs', '5',\n",
    "    '--checkpoint_frzn', 'test_checkpoints_transfer/fold_0/model_0/model.pt'\n",
    "]\n",
    "\n",
    "args = chemprop.args.TrainArgs().parse_args(arguments)\n",
    "mean_score, std_score = chemprop.train.cross_validate(args=args, train_func=chemprop.train.run_training)       "
   ]
  },
  {
   "cell_type": "code",
   "execution_count": null,
   "metadata": {
    "scrolled": true
   },
   "outputs": [],
   "source": [
    "arguments = [\n",
    "    '--test_path', 'test_checkpoints_transfer/fold_0/test_smiles.csv',\n",
    "    '--preds_path', 'test_preds_transfer.csv',\n",
    "    '--checkpoint_dir', 'test_checkpoints_transfer',\n",
    "]\n",
    "\n",
    "args = chemprop.args.PredictArgs().parse_args(arguments)\n",
    "preds = chemprop.train.make_predictions(args=args)"
   ]
  },
  {
   "cell_type": "code",
   "execution_count": null,
   "metadata": {},
   "outputs": [],
   "source": []
  }
 ],
 "metadata": {
  "colab": {
   "name": "chemprop_colab_demo.ipynb",
   "provenance": []
  },
  "kernelspec": {
   "display_name": "Python 3",
   "language": "python",
   "name": "python3"
  },
  "language_info": {
   "codemirror_mode": {
    "name": "ipython",
    "version": 3
   },
   "file_extension": ".py",
   "mimetype": "text/x-python",
   "name": "python",
   "nbconvert_exporter": "python",
   "pygments_lexer": "ipython3",
   "version": "3.8.10"
  }
 },
 "nbformat": 4,
 "nbformat_minor": 1
}
